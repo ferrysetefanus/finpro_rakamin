{
  "nbformat": 4,
  "nbformat_minor": 0,
  "metadata": {
    "colab": {
      "provenance": [],
      "collapsed_sections": []
    },
    "kernelspec": {
      "name": "python3",
      "display_name": "Python 3"
    },
    "language_info": {
      "name": "python"
    }
  },
  "cells": [
    {
      "cell_type": "markdown",
      "source": [
        "# Load Library"
      ],
      "metadata": {
        "id": "YJmk7xTPf6i_"
      }
    },
    {
      "cell_type": "code",
      "source": [
        " ! pip install catboost"
      ],
      "metadata": {
        "colab": {
          "base_uri": "https://localhost:8080/"
        },
        "id": "7Fp5E-K7_r5K",
        "outputId": "348cd2df-45e9-452a-a56a-1ddec875eb1a"
      },
      "execution_count": null,
      "outputs": [
        {
          "output_type": "stream",
          "name": "stdout",
          "text": [
            "Looking in indexes: https://pypi.org/simple, https://us-python.pkg.dev/colab-wheels/public/simple/\n",
            "Collecting catboost\n",
            "  Downloading catboost-1.1.1-cp37-none-manylinux1_x86_64.whl (76.6 MB)\n",
            "\u001b[K     |████████████████████████████████| 76.6 MB 107 kB/s \n",
            "\u001b[?25hRequirement already satisfied: graphviz in /usr/local/lib/python3.7/dist-packages (from catboost) (0.10.1)\n",
            "Requirement already satisfied: scipy in /usr/local/lib/python3.7/dist-packages (from catboost) (1.7.3)\n",
            "Requirement already satisfied: plotly in /usr/local/lib/python3.7/dist-packages (from catboost) (5.5.0)\n",
            "Requirement already satisfied: matplotlib in /usr/local/lib/python3.7/dist-packages (from catboost) (3.2.2)\n",
            "Requirement already satisfied: six in /usr/local/lib/python3.7/dist-packages (from catboost) (1.15.0)\n",
            "Requirement already satisfied: pandas>=0.24.0 in /usr/local/lib/python3.7/dist-packages (from catboost) (1.3.5)\n",
            "Requirement already satisfied: numpy>=1.16.0 in /usr/local/lib/python3.7/dist-packages (from catboost) (1.21.6)\n",
            "Requirement already satisfied: pytz>=2017.3 in /usr/local/lib/python3.7/dist-packages (from pandas>=0.24.0->catboost) (2022.6)\n",
            "Requirement already satisfied: python-dateutil>=2.7.3 in /usr/local/lib/python3.7/dist-packages (from pandas>=0.24.0->catboost) (2.8.2)\n",
            "Requirement already satisfied: kiwisolver>=1.0.1 in /usr/local/lib/python3.7/dist-packages (from matplotlib->catboost) (1.4.4)\n",
            "Requirement already satisfied: pyparsing!=2.0.4,!=2.1.2,!=2.1.6,>=2.0.1 in /usr/local/lib/python3.7/dist-packages (from matplotlib->catboost) (3.0.9)\n",
            "Requirement already satisfied: cycler>=0.10 in /usr/local/lib/python3.7/dist-packages (from matplotlib->catboost) (0.11.0)\n",
            "Requirement already satisfied: typing-extensions in /usr/local/lib/python3.7/dist-packages (from kiwisolver>=1.0.1->matplotlib->catboost) (4.1.1)\n",
            "Requirement already satisfied: tenacity>=6.2.0 in /usr/local/lib/python3.7/dist-packages (from plotly->catboost) (8.1.0)\n",
            "Installing collected packages: catboost\n",
            "Successfully installed catboost-1.1.1\n"
          ]
        }
      ]
    },
    {
      "cell_type": "code",
      "source": [
        "! pip install featurewiz"
      ],
      "metadata": {
        "colab": {
          "base_uri": "https://localhost:8080/",
          "height": 1000
        },
        "id": "2dSWXpepgWkr",
        "outputId": "2f93eec8-b975-4ae4-fc11-37ecd14c3015"
      },
      "execution_count": null,
      "outputs": [
        {
          "output_type": "stream",
          "name": "stdout",
          "text": [
            "Looking in indexes: https://pypi.org/simple, https://us-python.pkg.dev/colab-wheels/public/simple/\n",
            "Collecting featurewiz\n",
            "  Downloading featurewiz-0.2.2-py3-none-any.whl (111 kB)\n",
            "\u001b[K     |████████████████████████████████| 111 kB 5.3 MB/s \n",
            "\u001b[?25hCollecting xgboost>=1.5.1\n",
            "  Downloading xgboost-1.6.2-py3-none-manylinux2014_x86_64.whl (255.9 MB)\n",
            "\u001b[K     |████████████████████████████████| 255.9 MB 30 kB/s \n",
            "\u001b[?25hRequirement already satisfied: pandas>=1.3.4 in /usr/local/lib/python3.7/dist-packages (from featurewiz) (1.3.5)\n",
            "Collecting category-encoders>=2.4.0\n",
            "  Downloading category_encoders-2.5.1.post0-py2.py3-none-any.whl (72 kB)\n",
            "\u001b[K     |████████████████████████████████| 72 kB 791 kB/s \n",
            "\u001b[?25hRequirement already satisfied: tqdm>=4.62.0 in /usr/local/lib/python3.7/dist-packages (from featurewiz) (4.64.1)\n",
            "Requirement already satisfied: imbalanced-learn>=0.7 in /usr/local/lib/python3.7/dist-packages (from featurewiz) (0.8.1)\n",
            "Requirement already satisfied: scikit-learn>=0.24 in /usr/local/lib/python3.7/dist-packages (from featurewiz) (1.0.2)\n",
            "Requirement already satisfied: seaborn in /usr/local/lib/python3.7/dist-packages (from featurewiz) (0.11.2)\n",
            "Collecting pyarrow~=7.0.0\n",
            "  Downloading pyarrow-7.0.0-cp37-cp37m-manylinux_2_17_x86_64.manylinux2014_x86_64.whl (26.7 MB)\n",
            "\u001b[K     |████████████████████████████████| 26.7 MB 1.6 MB/s \n",
            "\u001b[?25hRequirement already satisfied: distributed>=2021.11.0 in /usr/local/lib/python3.7/dist-packages (from featurewiz) (2022.2.0)\n",
            "Requirement already satisfied: dask>=2021.11.0 in /usr/local/lib/python3.7/dist-packages (from featurewiz) (2022.2.0)\n",
            "Collecting lightgbm>=3.2.1\n",
            "  Downloading lightgbm-3.3.3-py3-none-manylinux1_x86_64.whl (2.0 MB)\n",
            "\u001b[K     |████████████████████████████████| 2.0 MB 45.5 MB/s \n",
            "\u001b[?25hCollecting jupyter\n",
            "  Downloading jupyter-1.0.0-py2.py3-none-any.whl (2.7 kB)\n",
            "Requirement already satisfied: matplotlib in /usr/local/lib/python3.7/dist-packages (from featurewiz) (3.2.2)\n",
            "Collecting xlrd>=2.0.0\n",
            "  Downloading xlrd-2.0.1-py2.py3-none-any.whl (96 kB)\n",
            "\u001b[K     |████████████████████████████████| 96 kB 5.1 MB/s \n",
            "\u001b[?25hRequirement already satisfied: fsspec>=0.3.3 in /usr/local/lib/python3.7/dist-packages (from featurewiz) (2022.10.0)\n",
            "Collecting Pillow>=9.0.0\n",
            "  Downloading Pillow-9.3.0-cp37-cp37m-manylinux_2_17_x86_64.manylinux2014_x86_64.whl (3.2 MB)\n",
            "\u001b[K     |████████████████████████████████| 3.2 MB 44.4 MB/s \n",
            "\u001b[?25hRequirement already satisfied: ipython in /usr/local/lib/python3.7/dist-packages (from featurewiz) (7.9.0)\n",
            "Requirement already satisfied: networkx>=2.6.2 in /usr/local/lib/python3.7/dist-packages (from featurewiz) (2.6.3)\n",
            "Requirement already satisfied: feather-format>=0.4.1 in /usr/local/lib/python3.7/dist-packages (from featurewiz) (0.4.1)\n",
            "Requirement already satisfied: numpy>=1.14.0 in /usr/local/lib/python3.7/dist-packages (from category-encoders>=2.4.0->featurewiz) (1.21.6)\n",
            "Requirement already satisfied: statsmodels>=0.9.0 in /usr/local/lib/python3.7/dist-packages (from category-encoders>=2.4.0->featurewiz) (0.12.2)\n",
            "Requirement already satisfied: patsy>=0.5.1 in /usr/local/lib/python3.7/dist-packages (from category-encoders>=2.4.0->featurewiz) (0.5.3)\n",
            "Requirement already satisfied: scipy>=1.0.0 in /usr/local/lib/python3.7/dist-packages (from category-encoders>=2.4.0->featurewiz) (1.7.3)\n",
            "Requirement already satisfied: pyyaml>=5.3.1 in /usr/local/lib/python3.7/dist-packages (from dask>=2021.11.0->featurewiz) (6.0)\n",
            "Requirement already satisfied: packaging>=20.0 in /usr/local/lib/python3.7/dist-packages (from dask>=2021.11.0->featurewiz) (21.3)\n",
            "Requirement already satisfied: toolz>=0.8.2 in /usr/local/lib/python3.7/dist-packages (from dask>=2021.11.0->featurewiz) (0.12.0)\n",
            "Requirement already satisfied: cloudpickle>=1.1.1 in /usr/local/lib/python3.7/dist-packages (from dask>=2021.11.0->featurewiz) (1.5.0)\n",
            "Requirement already satisfied: partd>=0.3.10 in /usr/local/lib/python3.7/dist-packages (from dask>=2021.11.0->featurewiz) (1.3.0)\n",
            "Requirement already satisfied: click>=6.6 in /usr/local/lib/python3.7/dist-packages (from distributed>=2021.11.0->featurewiz) (7.1.2)\n",
            "Requirement already satisfied: tornado>=5 in /usr/local/lib/python3.7/dist-packages (from distributed>=2021.11.0->featurewiz) (6.0.4)\n",
            "Requirement already satisfied: zict>=0.1.3 in /usr/local/lib/python3.7/dist-packages (from distributed>=2021.11.0->featurewiz) (2.2.0)\n",
            "Requirement already satisfied: jinja2 in /usr/local/lib/python3.7/dist-packages (from distributed>=2021.11.0->featurewiz) (2.11.3)\n",
            "Requirement already satisfied: psutil>=5.0 in /usr/local/lib/python3.7/dist-packages (from distributed>=2021.11.0->featurewiz) (5.4.8)\n",
            "Requirement already satisfied: tblib>=1.6.0 in /usr/local/lib/python3.7/dist-packages (from distributed>=2021.11.0->featurewiz) (1.7.0)\n",
            "Requirement already satisfied: setuptools in /usr/local/lib/python3.7/dist-packages (from distributed>=2021.11.0->featurewiz) (57.4.0)\n",
            "Requirement already satisfied: msgpack>=0.6.0 in /usr/local/lib/python3.7/dist-packages (from distributed>=2021.11.0->featurewiz) (1.0.4)\n",
            "Requirement already satisfied: sortedcontainers!=2.0.0,!=2.0.1 in /usr/local/lib/python3.7/dist-packages (from distributed>=2021.11.0->featurewiz) (2.4.0)\n",
            "Requirement already satisfied: joblib>=0.11 in /usr/local/lib/python3.7/dist-packages (from imbalanced-learn>=0.7->featurewiz) (1.2.0)\n",
            "Requirement already satisfied: wheel in /usr/local/lib/python3.7/dist-packages (from lightgbm>=3.2.1->featurewiz) (0.38.3)\n",
            "Requirement already satisfied: pyparsing!=3.0.5,>=2.0.2 in /usr/local/lib/python3.7/dist-packages (from packaging>=20.0->dask>=2021.11.0->featurewiz) (3.0.9)\n",
            "Requirement already satisfied: pytz>=2017.3 in /usr/local/lib/python3.7/dist-packages (from pandas>=1.3.4->featurewiz) (2022.6)\n",
            "Requirement already satisfied: python-dateutil>=2.7.3 in /usr/local/lib/python3.7/dist-packages (from pandas>=1.3.4->featurewiz) (2.8.2)\n",
            "Requirement already satisfied: locket in /usr/local/lib/python3.7/dist-packages (from partd>=0.3.10->dask>=2021.11.0->featurewiz) (1.0.0)\n",
            "Requirement already satisfied: six in /usr/local/lib/python3.7/dist-packages (from patsy>=0.5.1->category-encoders>=2.4.0->featurewiz) (1.15.0)\n",
            "Requirement already satisfied: threadpoolctl>=2.0.0 in /usr/local/lib/python3.7/dist-packages (from scikit-learn>=0.24->featurewiz) (3.1.0)\n",
            "Requirement already satisfied: heapdict in /usr/local/lib/python3.7/dist-packages (from zict>=0.1.3->distributed>=2021.11.0->featurewiz) (1.0.1)\n",
            "Requirement already satisfied: prompt-toolkit<2.1.0,>=2.0.0 in /usr/local/lib/python3.7/dist-packages (from ipython->featurewiz) (2.0.10)\n",
            "Requirement already satisfied: pickleshare in /usr/local/lib/python3.7/dist-packages (from ipython->featurewiz) (0.7.5)\n",
            "Collecting jedi>=0.10\n",
            "  Downloading jedi-0.18.1-py2.py3-none-any.whl (1.6 MB)\n",
            "\u001b[K     |████████████████████████████████| 1.6 MB 42.3 MB/s \n",
            "\u001b[?25hRequirement already satisfied: backcall in /usr/local/lib/python3.7/dist-packages (from ipython->featurewiz) (0.2.0)\n",
            "Requirement already satisfied: pygments in /usr/local/lib/python3.7/dist-packages (from ipython->featurewiz) (2.6.1)\n",
            "Requirement already satisfied: decorator in /usr/local/lib/python3.7/dist-packages (from ipython->featurewiz) (4.4.2)\n",
            "Requirement already satisfied: pexpect in /usr/local/lib/python3.7/dist-packages (from ipython->featurewiz) (4.8.0)\n",
            "Requirement already satisfied: traitlets>=4.2 in /usr/local/lib/python3.7/dist-packages (from ipython->featurewiz) (5.1.1)\n",
            "Requirement already satisfied: parso<0.9.0,>=0.8.0 in /usr/local/lib/python3.7/dist-packages (from jedi>=0.10->ipython->featurewiz) (0.8.3)\n",
            "Requirement already satisfied: wcwidth in /usr/local/lib/python3.7/dist-packages (from prompt-toolkit<2.1.0,>=2.0.0->ipython->featurewiz) (0.2.5)\n",
            "Requirement already satisfied: MarkupSafe>=0.23 in /usr/local/lib/python3.7/dist-packages (from jinja2->distributed>=2021.11.0->featurewiz) (2.0.1)\n",
            "Collecting qtconsole\n",
            "  Downloading qtconsole-5.4.0-py3-none-any.whl (121 kB)\n",
            "\u001b[K     |████████████████████████████████| 121 kB 48.9 MB/s \n",
            "\u001b[?25hRequirement already satisfied: notebook in /usr/local/lib/python3.7/dist-packages (from jupyter->featurewiz) (5.7.16)\n",
            "Requirement already satisfied: ipykernel in /usr/local/lib/python3.7/dist-packages (from jupyter->featurewiz) (5.3.4)\n",
            "Requirement already satisfied: jupyter-console in /usr/local/lib/python3.7/dist-packages (from jupyter->featurewiz) (6.1.0)\n",
            "Requirement already satisfied: ipywidgets in /usr/local/lib/python3.7/dist-packages (from jupyter->featurewiz) (7.7.1)\n",
            "Requirement already satisfied: nbconvert in /usr/local/lib/python3.7/dist-packages (from jupyter->featurewiz) (5.6.1)\n",
            "Requirement already satisfied: jupyter-client in /usr/local/lib/python3.7/dist-packages (from ipykernel->jupyter->featurewiz) (6.1.12)\n",
            "Requirement already satisfied: widgetsnbextension~=3.6.0 in /usr/local/lib/python3.7/dist-packages (from ipywidgets->jupyter->featurewiz) (3.6.1)\n",
            "Requirement already satisfied: ipython-genutils~=0.2.0 in /usr/local/lib/python3.7/dist-packages (from ipywidgets->jupyter->featurewiz) (0.2.0)\n",
            "Requirement already satisfied: jupyterlab-widgets>=1.0.0 in /usr/local/lib/python3.7/dist-packages (from ipywidgets->jupyter->featurewiz) (3.0.3)\n",
            "Requirement already satisfied: terminado>=0.8.1 in /usr/local/lib/python3.7/dist-packages (from notebook->jupyter->featurewiz) (0.13.3)\n",
            "Requirement already satisfied: nbformat in /usr/local/lib/python3.7/dist-packages (from notebook->jupyter->featurewiz) (5.7.0)\n",
            "Requirement already satisfied: Send2Trash in /usr/local/lib/python3.7/dist-packages (from notebook->jupyter->featurewiz) (1.8.0)\n",
            "Requirement already satisfied: prometheus-client in /usr/local/lib/python3.7/dist-packages (from notebook->jupyter->featurewiz) (0.15.0)\n",
            "Requirement already satisfied: jupyter-core>=4.4.0 in /usr/local/lib/python3.7/dist-packages (from notebook->jupyter->featurewiz) (4.11.2)\n",
            "Requirement already satisfied: pyzmq>=17 in /usr/local/lib/python3.7/dist-packages (from notebook->jupyter->featurewiz) (23.2.1)\n",
            "Requirement already satisfied: bleach in /usr/local/lib/python3.7/dist-packages (from nbconvert->jupyter->featurewiz) (5.0.1)\n",
            "Requirement already satisfied: defusedxml in /usr/local/lib/python3.7/dist-packages (from nbconvert->jupyter->featurewiz) (0.7.1)\n",
            "Requirement already satisfied: testpath in /usr/local/lib/python3.7/dist-packages (from nbconvert->jupyter->featurewiz) (0.6.0)\n",
            "Requirement already satisfied: entrypoints>=0.2.2 in /usr/local/lib/python3.7/dist-packages (from nbconvert->jupyter->featurewiz) (0.4)\n",
            "Requirement already satisfied: mistune<2,>=0.8.1 in /usr/local/lib/python3.7/dist-packages (from nbconvert->jupyter->featurewiz) (0.8.4)\n",
            "Requirement already satisfied: pandocfilters>=1.4.1 in /usr/local/lib/python3.7/dist-packages (from nbconvert->jupyter->featurewiz) (1.5.0)\n",
            "Requirement already satisfied: importlib-metadata>=3.6 in /usr/local/lib/python3.7/dist-packages (from nbformat->notebook->jupyter->featurewiz) (4.13.0)\n",
            "Requirement already satisfied: jsonschema>=2.6 in /usr/local/lib/python3.7/dist-packages (from nbformat->notebook->jupyter->featurewiz) (4.3.3)\n",
            "Requirement already satisfied: fastjsonschema in /usr/local/lib/python3.7/dist-packages (from nbformat->notebook->jupyter->featurewiz) (2.16.2)\n",
            "Requirement already satisfied: zipp>=0.5 in /usr/local/lib/python3.7/dist-packages (from importlib-metadata>=3.6->nbformat->notebook->jupyter->featurewiz) (3.10.0)\n",
            "Requirement already satisfied: typing-extensions>=3.6.4 in /usr/local/lib/python3.7/dist-packages (from importlib-metadata>=3.6->nbformat->notebook->jupyter->featurewiz) (4.1.1)\n",
            "Requirement already satisfied: importlib-resources>=1.4.0 in /usr/local/lib/python3.7/dist-packages (from jsonschema>=2.6->nbformat->notebook->jupyter->featurewiz) (5.10.0)\n",
            "Requirement already satisfied: pyrsistent!=0.17.0,!=0.17.1,!=0.17.2,>=0.14.0 in /usr/local/lib/python3.7/dist-packages (from jsonschema>=2.6->nbformat->notebook->jupyter->featurewiz) (0.19.2)\n",
            "Requirement already satisfied: attrs>=17.4.0 in /usr/local/lib/python3.7/dist-packages (from jsonschema>=2.6->nbformat->notebook->jupyter->featurewiz) (22.1.0)\n",
            "Requirement already satisfied: ptyprocess in /usr/local/lib/python3.7/dist-packages (from terminado>=0.8.1->notebook->jupyter->featurewiz) (0.7.0)\n",
            "Requirement already satisfied: webencodings in /usr/local/lib/python3.7/dist-packages (from bleach->nbconvert->jupyter->featurewiz) (0.5.1)\n",
            "Requirement already satisfied: cycler>=0.10 in /usr/local/lib/python3.7/dist-packages (from matplotlib->featurewiz) (0.11.0)\n",
            "Requirement already satisfied: kiwisolver>=1.0.1 in /usr/local/lib/python3.7/dist-packages (from matplotlib->featurewiz) (1.4.4)\n",
            "Collecting qtpy>=2.0.1\n",
            "  Downloading QtPy-2.3.0-py3-none-any.whl (83 kB)\n",
            "\u001b[K     |████████████████████████████████| 83 kB 2.1 MB/s \n",
            "\u001b[?25hInstalling collected packages: jedi, qtpy, qtconsole, pyarrow, xlrd, xgboost, Pillow, lightgbm, jupyter, category-encoders, featurewiz\n",
            "  Attempting uninstall: pyarrow\n",
            "    Found existing installation: pyarrow 6.0.1\n",
            "    Uninstalling pyarrow-6.0.1:\n",
            "      Successfully uninstalled pyarrow-6.0.1\n",
            "  Attempting uninstall: xlrd\n",
            "    Found existing installation: xlrd 1.1.0\n",
            "    Uninstalling xlrd-1.1.0:\n",
            "      Successfully uninstalled xlrd-1.1.0\n",
            "  Attempting uninstall: xgboost\n",
            "    Found existing installation: xgboost 0.90\n",
            "    Uninstalling xgboost-0.90:\n",
            "      Successfully uninstalled xgboost-0.90\n",
            "  Attempting uninstall: Pillow\n",
            "    Found existing installation: Pillow 7.1.2\n",
            "    Uninstalling Pillow-7.1.2:\n",
            "      Successfully uninstalled Pillow-7.1.2\n",
            "  Attempting uninstall: lightgbm\n",
            "    Found existing installation: lightgbm 2.2.3\n",
            "    Uninstalling lightgbm-2.2.3:\n",
            "      Successfully uninstalled lightgbm-2.2.3\n",
            "Successfully installed Pillow-9.3.0 category-encoders-2.5.1.post0 featurewiz-0.2.2 jedi-0.18.1 jupyter-1.0.0 lightgbm-3.3.3 pyarrow-7.0.0 qtconsole-5.4.0 qtpy-2.3.0 xgboost-1.6.2 xlrd-2.0.1\n"
          ]
        },
        {
          "output_type": "display_data",
          "data": {
            "application/vnd.colab-display-data+json": {
              "pip_warning": {
                "packages": [
                  "PIL"
                ]
              }
            }
          },
          "metadata": {}
        }
      ]
    },
    {
      "cell_type": "code",
      "execution_count": null,
      "metadata": {
        "id": "6em4hSIKd8yK"
      },
      "outputs": [],
      "source": [
        "import numpy as np\n",
        "import pandas as pd\n",
        "import matplotlib.pyplot as plt\n",
        "import matplotlib\n",
        "import seaborn as sns\n",
        "from scipy.stats import chi2_contingency\n",
        "from scipy import stats\n",
        "from sklearn.preprocessing import MinMaxScaler, StandardScaler\n",
        "from featurewiz import featurewiz\n",
        "from sklearn.model_selection import train_test_split\n",
        "from sklearn.linear_model import LogisticRegression\n",
        "from sklearn.neighbors import KNeighborsClassifier\n",
        "from sklearn.tree import DecisionTreeClassifier\n",
        "from sklearn.naive_bayes import GaussianNB\n",
        "from xgboost import XGBClassifier\n",
        "from sklearn.ensemble import RandomForestClassifier\n",
        "from catboost import CatBoostClassifier\n",
        "from sklearn.ensemble import AdaBoostClassifier\n",
        "from sklearn.model_selection import RandomizedSearchCV\n",
        "from sklearn.metrics import classification_report, confusion_matrix"
      ]
    },
    {
      "cell_type": "code",
      "source": [
        "from google.colab import drive\n",
        "drive.mount('/content/drive')"
      ],
      "metadata": {
        "colab": {
          "base_uri": "https://localhost:8080/"
        },
        "id": "ltb6EIfgeCwg",
        "outputId": "292a80ff-c6ac-4749-85f7-d7cb4e05dd10"
      },
      "execution_count": null,
      "outputs": [
        {
          "output_type": "stream",
          "name": "stdout",
          "text": [
            "Mounted at /content/drive\n"
          ]
        }
      ]
    },
    {
      "cell_type": "markdown",
      "source": [
        "# Load Dataset"
      ],
      "metadata": {
        "id": "YwrPAz2qf-va"
      }
    },
    {
      "cell_type": "code",
      "source": [
        "#drive ferry\n",
        "df = pd.read_csv('/content/drive/MyDrive/data science/final project/hotel_booking_after_preprocessing.csv')"
      ],
      "metadata": {
        "id": "tsWd5KV0eF0W"
      },
      "execution_count": null,
      "outputs": []
    },
    {
      "cell_type": "code",
      "source": [
        "pd.set_option('display.max_columns', None)\n",
        "df.sample(5)"
      ],
      "metadata": {
        "colab": {
          "base_uri": "https://localhost:8080/",
          "height": 287
        },
        "id": "8GOIcZsHeM4I",
        "outputId": "690e5072-a50a-475d-c357-d8eb6bdda557"
      },
      "execution_count": null,
      "outputs": [
        {
          "output_type": "execute_result",
          "data": {
            "text/plain": [
              "       hotel  is_canceled  arrival_date_week_number  \\\n",
              "82530      0            0                        49   \n",
              "69426      0            0                        17   \n",
              "44188      0            1                        42   \n",
              "49755      0            1                        12   \n",
              "49919      0            1                        13   \n",
              "\n",
              "       arrival_date_day_of_month  stays_in_weekend_nights  \\\n",
              "82530                         29                        0   \n",
              "69426                         17                        2   \n",
              "44188                         13                        0   \n",
              "49755                         23                        1   \n",
              "49919                         30                        1   \n",
              "\n",
              "       stays_in_week_nights  adults  children  babies  is_repeated_guest  \\\n",
              "82530                     4       2         0       0                  0   \n",
              "69426                     1       2         0       0                  0   \n",
              "44188                     3       2         0       0                  0   \n",
              "49755                     3       2         0       0                  0   \n",
              "49919                     3       2         0       0                  0   \n",
              "\n",
              "       previous_cancellations  previous_bookings_not_canceled  \\\n",
              "82530                       0                               0   \n",
              "69426                       0                               0   \n",
              "44188                       0                               0   \n",
              "49755                       0                               0   \n",
              "49919                       0                               0   \n",
              "\n",
              "       booking_changes  days_in_waiting_list  required_car_parking_spaces  \\\n",
              "82530                2                     0                            0   \n",
              "69426                0                     0                            0   \n",
              "44188                0                     0                            0   \n",
              "49755                0                     0                            0   \n",
              "49919                0                     0                            0   \n",
              "\n",
              "       lead_time_norm  adr_norm  total_of_special_requests_norm  meal_BB  \\\n",
              "82530        0.353553  0.307346                             0.4        1   \n",
              "69426        0.336463  0.349347                             0.2        0   \n",
              "44188        0.295405  0.414479                             0.0        1   \n",
              "49755        0.366652  0.395926                             0.0        1   \n",
              "49919        0.385467  0.343031                             0.0        0   \n",
              "\n",
              "       meal_FB  meal_HB  meal_SC  meal_Undefined  market_segment_Aviation  \\\n",
              "82530        0        0        0               0                        0   \n",
              "69426        0        0        1               0                        0   \n",
              "44188        0        0        0               0                        0   \n",
              "49755        0        0        0               0                        0   \n",
              "49919        0        0        1               0                        0   \n",
              "\n",
              "       market_segment_Complementary  market_segment_Corporate  \\\n",
              "82530                             0                         0   \n",
              "69426                             0                         0   \n",
              "44188                             0                         0   \n",
              "49755                             0                         0   \n",
              "49919                             0                         0   \n",
              "\n",
              "       market_segment_Direct  market_segment_Groups  \\\n",
              "82530                      0                      0   \n",
              "69426                      0                      0   \n",
              "44188                      0                      0   \n",
              "49755                      0                      0   \n",
              "49919                      0                      0   \n",
              "\n",
              "       market_segment_Offline TA/TO  market_segment_Online TA  \\\n",
              "82530                             0                         1   \n",
              "69426                             0                         1   \n",
              "44188                             1                         0   \n",
              "49755                             0                         1   \n",
              "49919                             0                         1   \n",
              "\n",
              "       distribution_channel_Corporate  distribution_channel_GDS  \\\n",
              "82530                               0                         0   \n",
              "69426                               0                         0   \n",
              "44188                               0                         0   \n",
              "49755                               0                         0   \n",
              "49919                               0                         0   \n",
              "\n",
              "       deposit_type_No Deposit  deposit_type_Refundable  \\\n",
              "82530                        1                        0   \n",
              "69426                        1                        0   \n",
              "44188                        1                        0   \n",
              "49755                        1                        0   \n",
              "49919                        1                        0   \n",
              "\n",
              "       customer_type_Contract  customer_type_Group  customer_type_Transient  \\\n",
              "82530                       0                    0                        1   \n",
              "69426                       0                    0                        1   \n",
              "44188                       0                    0                        0   \n",
              "49755                       0                    0                        1   \n",
              "49919                       0                    0                        1   \n",
              "\n",
              "       reserved_vs_assigned  season_autumn  season_spring  season_summer  \\\n",
              "82530                     0              1              0              0   \n",
              "69426                     1              0              1              0   \n",
              "44188                     1              1              0              0   \n",
              "49755                     1              0              1              0   \n",
              "49919                     1              0              1              0   \n",
              "\n",
              "       season_winter  origin_type  \n",
              "82530              0            0  \n",
              "69426              0            1  \n",
              "44188              0            1  \n",
              "49755              0            0  \n",
              "49919              0            0  "
            ],
            "text/html": [
              "\n",
              "  <div id=\"df-5b92ae38-0de6-48f9-b2ec-9bf1907d3d4b\">\n",
              "    <div class=\"colab-df-container\">\n",
              "      <div>\n",
              "<style scoped>\n",
              "    .dataframe tbody tr th:only-of-type {\n",
              "        vertical-align: middle;\n",
              "    }\n",
              "\n",
              "    .dataframe tbody tr th {\n",
              "        vertical-align: top;\n",
              "    }\n",
              "\n",
              "    .dataframe thead th {\n",
              "        text-align: right;\n",
              "    }\n",
              "</style>\n",
              "<table border=\"1\" class=\"dataframe\">\n",
              "  <thead>\n",
              "    <tr style=\"text-align: right;\">\n",
              "      <th></th>\n",
              "      <th>hotel</th>\n",
              "      <th>is_canceled</th>\n",
              "      <th>arrival_date_week_number</th>\n",
              "      <th>arrival_date_day_of_month</th>\n",
              "      <th>stays_in_weekend_nights</th>\n",
              "      <th>stays_in_week_nights</th>\n",
              "      <th>adults</th>\n",
              "      <th>children</th>\n",
              "      <th>babies</th>\n",
              "      <th>is_repeated_guest</th>\n",
              "      <th>previous_cancellations</th>\n",
              "      <th>previous_bookings_not_canceled</th>\n",
              "      <th>booking_changes</th>\n",
              "      <th>days_in_waiting_list</th>\n",
              "      <th>required_car_parking_spaces</th>\n",
              "      <th>lead_time_norm</th>\n",
              "      <th>adr_norm</th>\n",
              "      <th>total_of_special_requests_norm</th>\n",
              "      <th>meal_BB</th>\n",
              "      <th>meal_FB</th>\n",
              "      <th>meal_HB</th>\n",
              "      <th>meal_SC</th>\n",
              "      <th>meal_Undefined</th>\n",
              "      <th>market_segment_Aviation</th>\n",
              "      <th>market_segment_Complementary</th>\n",
              "      <th>market_segment_Corporate</th>\n",
              "      <th>market_segment_Direct</th>\n",
              "      <th>market_segment_Groups</th>\n",
              "      <th>market_segment_Offline TA/TO</th>\n",
              "      <th>market_segment_Online TA</th>\n",
              "      <th>distribution_channel_Corporate</th>\n",
              "      <th>distribution_channel_GDS</th>\n",
              "      <th>deposit_type_No Deposit</th>\n",
              "      <th>deposit_type_Refundable</th>\n",
              "      <th>customer_type_Contract</th>\n",
              "      <th>customer_type_Group</th>\n",
              "      <th>customer_type_Transient</th>\n",
              "      <th>reserved_vs_assigned</th>\n",
              "      <th>season_autumn</th>\n",
              "      <th>season_spring</th>\n",
              "      <th>season_summer</th>\n",
              "      <th>season_winter</th>\n",
              "      <th>origin_type</th>\n",
              "    </tr>\n",
              "  </thead>\n",
              "  <tbody>\n",
              "    <tr>\n",
              "      <th>82530</th>\n",
              "      <td>0</td>\n",
              "      <td>0</td>\n",
              "      <td>49</td>\n",
              "      <td>29</td>\n",
              "      <td>0</td>\n",
              "      <td>4</td>\n",
              "      <td>2</td>\n",
              "      <td>0</td>\n",
              "      <td>0</td>\n",
              "      <td>0</td>\n",
              "      <td>0</td>\n",
              "      <td>0</td>\n",
              "      <td>2</td>\n",
              "      <td>0</td>\n",
              "      <td>0</td>\n",
              "      <td>0.353553</td>\n",
              "      <td>0.307346</td>\n",
              "      <td>0.4</td>\n",
              "      <td>1</td>\n",
              "      <td>0</td>\n",
              "      <td>0</td>\n",
              "      <td>0</td>\n",
              "      <td>0</td>\n",
              "      <td>0</td>\n",
              "      <td>0</td>\n",
              "      <td>0</td>\n",
              "      <td>0</td>\n",
              "      <td>0</td>\n",
              "      <td>0</td>\n",
              "      <td>1</td>\n",
              "      <td>0</td>\n",
              "      <td>0</td>\n",
              "      <td>1</td>\n",
              "      <td>0</td>\n",
              "      <td>0</td>\n",
              "      <td>0</td>\n",
              "      <td>1</td>\n",
              "      <td>0</td>\n",
              "      <td>1</td>\n",
              "      <td>0</td>\n",
              "      <td>0</td>\n",
              "      <td>0</td>\n",
              "      <td>0</td>\n",
              "    </tr>\n",
              "    <tr>\n",
              "      <th>69426</th>\n",
              "      <td>0</td>\n",
              "      <td>0</td>\n",
              "      <td>17</td>\n",
              "      <td>17</td>\n",
              "      <td>2</td>\n",
              "      <td>1</td>\n",
              "      <td>2</td>\n",
              "      <td>0</td>\n",
              "      <td>0</td>\n",
              "      <td>0</td>\n",
              "      <td>0</td>\n",
              "      <td>0</td>\n",
              "      <td>0</td>\n",
              "      <td>0</td>\n",
              "      <td>0</td>\n",
              "      <td>0.336463</td>\n",
              "      <td>0.349347</td>\n",
              "      <td>0.2</td>\n",
              "      <td>0</td>\n",
              "      <td>0</td>\n",
              "      <td>0</td>\n",
              "      <td>1</td>\n",
              "      <td>0</td>\n",
              "      <td>0</td>\n",
              "      <td>0</td>\n",
              "      <td>0</td>\n",
              "      <td>0</td>\n",
              "      <td>0</td>\n",
              "      <td>0</td>\n",
              "      <td>1</td>\n",
              "      <td>0</td>\n",
              "      <td>0</td>\n",
              "      <td>1</td>\n",
              "      <td>0</td>\n",
              "      <td>0</td>\n",
              "      <td>0</td>\n",
              "      <td>1</td>\n",
              "      <td>1</td>\n",
              "      <td>0</td>\n",
              "      <td>1</td>\n",
              "      <td>0</td>\n",
              "      <td>0</td>\n",
              "      <td>1</td>\n",
              "    </tr>\n",
              "    <tr>\n",
              "      <th>44188</th>\n",
              "      <td>0</td>\n",
              "      <td>1</td>\n",
              "      <td>42</td>\n",
              "      <td>13</td>\n",
              "      <td>0</td>\n",
              "      <td>3</td>\n",
              "      <td>2</td>\n",
              "      <td>0</td>\n",
              "      <td>0</td>\n",
              "      <td>0</td>\n",
              "      <td>0</td>\n",
              "      <td>0</td>\n",
              "      <td>0</td>\n",
              "      <td>0</td>\n",
              "      <td>0</td>\n",
              "      <td>0.295405</td>\n",
              "      <td>0.414479</td>\n",
              "      <td>0.0</td>\n",
              "      <td>1</td>\n",
              "      <td>0</td>\n",
              "      <td>0</td>\n",
              "      <td>0</td>\n",
              "      <td>0</td>\n",
              "      <td>0</td>\n",
              "      <td>0</td>\n",
              "      <td>0</td>\n",
              "      <td>0</td>\n",
              "      <td>0</td>\n",
              "      <td>1</td>\n",
              "      <td>0</td>\n",
              "      <td>0</td>\n",
              "      <td>0</td>\n",
              "      <td>1</td>\n",
              "      <td>0</td>\n",
              "      <td>0</td>\n",
              "      <td>0</td>\n",
              "      <td>0</td>\n",
              "      <td>1</td>\n",
              "      <td>1</td>\n",
              "      <td>0</td>\n",
              "      <td>0</td>\n",
              "      <td>0</td>\n",
              "      <td>1</td>\n",
              "    </tr>\n",
              "    <tr>\n",
              "      <th>49755</th>\n",
              "      <td>0</td>\n",
              "      <td>1</td>\n",
              "      <td>12</td>\n",
              "      <td>23</td>\n",
              "      <td>1</td>\n",
              "      <td>3</td>\n",
              "      <td>2</td>\n",
              "      <td>0</td>\n",
              "      <td>0</td>\n",
              "      <td>0</td>\n",
              "      <td>0</td>\n",
              "      <td>0</td>\n",
              "      <td>0</td>\n",
              "      <td>0</td>\n",
              "      <td>0</td>\n",
              "      <td>0.366652</td>\n",
              "      <td>0.395926</td>\n",
              "      <td>0.0</td>\n",
              "      <td>1</td>\n",
              "      <td>0</td>\n",
              "      <td>0</td>\n",
              "      <td>0</td>\n",
              "      <td>0</td>\n",
              "      <td>0</td>\n",
              "      <td>0</td>\n",
              "      <td>0</td>\n",
              "      <td>0</td>\n",
              "      <td>0</td>\n",
              "      <td>0</td>\n",
              "      <td>1</td>\n",
              "      <td>0</td>\n",
              "      <td>0</td>\n",
              "      <td>1</td>\n",
              "      <td>0</td>\n",
              "      <td>0</td>\n",
              "      <td>0</td>\n",
              "      <td>1</td>\n",
              "      <td>1</td>\n",
              "      <td>0</td>\n",
              "      <td>1</td>\n",
              "      <td>0</td>\n",
              "      <td>0</td>\n",
              "      <td>0</td>\n",
              "    </tr>\n",
              "    <tr>\n",
              "      <th>49919</th>\n",
              "      <td>0</td>\n",
              "      <td>1</td>\n",
              "      <td>13</td>\n",
              "      <td>30</td>\n",
              "      <td>1</td>\n",
              "      <td>3</td>\n",
              "      <td>2</td>\n",
              "      <td>0</td>\n",
              "      <td>0</td>\n",
              "      <td>0</td>\n",
              "      <td>0</td>\n",
              "      <td>0</td>\n",
              "      <td>0</td>\n",
              "      <td>0</td>\n",
              "      <td>0</td>\n",
              "      <td>0.385467</td>\n",
              "      <td>0.343031</td>\n",
              "      <td>0.0</td>\n",
              "      <td>0</td>\n",
              "      <td>0</td>\n",
              "      <td>0</td>\n",
              "      <td>1</td>\n",
              "      <td>0</td>\n",
              "      <td>0</td>\n",
              "      <td>0</td>\n",
              "      <td>0</td>\n",
              "      <td>0</td>\n",
              "      <td>0</td>\n",
              "      <td>0</td>\n",
              "      <td>1</td>\n",
              "      <td>0</td>\n",
              "      <td>0</td>\n",
              "      <td>1</td>\n",
              "      <td>0</td>\n",
              "      <td>0</td>\n",
              "      <td>0</td>\n",
              "      <td>1</td>\n",
              "      <td>1</td>\n",
              "      <td>0</td>\n",
              "      <td>1</td>\n",
              "      <td>0</td>\n",
              "      <td>0</td>\n",
              "      <td>0</td>\n",
              "    </tr>\n",
              "  </tbody>\n",
              "</table>\n",
              "</div>\n",
              "      <button class=\"colab-df-convert\" onclick=\"convertToInteractive('df-5b92ae38-0de6-48f9-b2ec-9bf1907d3d4b')\"\n",
              "              title=\"Convert this dataframe to an interactive table.\"\n",
              "              style=\"display:none;\">\n",
              "        \n",
              "  <svg xmlns=\"http://www.w3.org/2000/svg\" height=\"24px\"viewBox=\"0 0 24 24\"\n",
              "       width=\"24px\">\n",
              "    <path d=\"M0 0h24v24H0V0z\" fill=\"none\"/>\n",
              "    <path d=\"M18.56 5.44l.94 2.06.94-2.06 2.06-.94-2.06-.94-.94-2.06-.94 2.06-2.06.94zm-11 1L8.5 8.5l.94-2.06 2.06-.94-2.06-.94L8.5 2.5l-.94 2.06-2.06.94zm10 10l.94 2.06.94-2.06 2.06-.94-2.06-.94-.94-2.06-.94 2.06-2.06.94z\"/><path d=\"M17.41 7.96l-1.37-1.37c-.4-.4-.92-.59-1.43-.59-.52 0-1.04.2-1.43.59L10.3 9.45l-7.72 7.72c-.78.78-.78 2.05 0 2.83L4 21.41c.39.39.9.59 1.41.59.51 0 1.02-.2 1.41-.59l7.78-7.78 2.81-2.81c.8-.78.8-2.07 0-2.86zM5.41 20L4 18.59l7.72-7.72 1.47 1.35L5.41 20z\"/>\n",
              "  </svg>\n",
              "      </button>\n",
              "      \n",
              "  <style>\n",
              "    .colab-df-container {\n",
              "      display:flex;\n",
              "      flex-wrap:wrap;\n",
              "      gap: 12px;\n",
              "    }\n",
              "\n",
              "    .colab-df-convert {\n",
              "      background-color: #E8F0FE;\n",
              "      border: none;\n",
              "      border-radius: 50%;\n",
              "      cursor: pointer;\n",
              "      display: none;\n",
              "      fill: #1967D2;\n",
              "      height: 32px;\n",
              "      padding: 0 0 0 0;\n",
              "      width: 32px;\n",
              "    }\n",
              "\n",
              "    .colab-df-convert:hover {\n",
              "      background-color: #E2EBFA;\n",
              "      box-shadow: 0px 1px 2px rgba(60, 64, 67, 0.3), 0px 1px 3px 1px rgba(60, 64, 67, 0.15);\n",
              "      fill: #174EA6;\n",
              "    }\n",
              "\n",
              "    [theme=dark] .colab-df-convert {\n",
              "      background-color: #3B4455;\n",
              "      fill: #D2E3FC;\n",
              "    }\n",
              "\n",
              "    [theme=dark] .colab-df-convert:hover {\n",
              "      background-color: #434B5C;\n",
              "      box-shadow: 0px 1px 3px 1px rgba(0, 0, 0, 0.15);\n",
              "      filter: drop-shadow(0px 1px 2px rgba(0, 0, 0, 0.3));\n",
              "      fill: #FFFFFF;\n",
              "    }\n",
              "  </style>\n",
              "\n",
              "      <script>\n",
              "        const buttonEl =\n",
              "          document.querySelector('#df-5b92ae38-0de6-48f9-b2ec-9bf1907d3d4b button.colab-df-convert');\n",
              "        buttonEl.style.display =\n",
              "          google.colab.kernel.accessAllowed ? 'block' : 'none';\n",
              "\n",
              "        async function convertToInteractive(key) {\n",
              "          const element = document.querySelector('#df-5b92ae38-0de6-48f9-b2ec-9bf1907d3d4b');\n",
              "          const dataTable =\n",
              "            await google.colab.kernel.invokeFunction('convertToInteractive',\n",
              "                                                     [key], {});\n",
              "          if (!dataTable) return;\n",
              "\n",
              "          const docLinkHtml = 'Like what you see? Visit the ' +\n",
              "            '<a target=\"_blank\" href=https://colab.research.google.com/notebooks/data_table.ipynb>data table notebook</a>'\n",
              "            + ' to learn more about interactive tables.';\n",
              "          element.innerHTML = '';\n",
              "          dataTable['output_type'] = 'display_data';\n",
              "          await google.colab.output.renderOutput(dataTable, element);\n",
              "          const docLink = document.createElement('div');\n",
              "          docLink.innerHTML = docLinkHtml;\n",
              "          element.appendChild(docLink);\n",
              "        }\n",
              "      </script>\n",
              "    </div>\n",
              "  </div>\n",
              "  "
            ]
          },
          "metadata": {},
          "execution_count": 46
        }
      ]
    },
    {
      "cell_type": "markdown",
      "source": [
        "# A. Split Data Train & Test "
      ],
      "metadata": {
        "id": "bfwBJ3bDOO75"
      }
    },
    {
      "cell_type": "code",
      "source": [
        "df.columns"
      ],
      "metadata": {
        "colab": {
          "base_uri": "https://localhost:8080/"
        },
        "id": "iHoHor-wOZp4",
        "outputId": "84ac27b5-4dfc-4e2e-834a-941512ed2ffd"
      },
      "execution_count": null,
      "outputs": [
        {
          "output_type": "execute_result",
          "data": {
            "text/plain": [
              "Index(['hotel', 'is_canceled', 'arrival_date_week_number',\n",
              "       'arrival_date_day_of_month', 'stays_in_weekend_nights',\n",
              "       'stays_in_week_nights', 'adults', 'children', 'babies',\n",
              "       'is_repeated_guest', 'previous_cancellations',\n",
              "       'previous_bookings_not_canceled', 'booking_changes',\n",
              "       'days_in_waiting_list', 'required_car_parking_spaces', 'lead_time_norm',\n",
              "       'adr_norm', 'total_of_special_requests_norm', 'meal_BB', 'meal_FB',\n",
              "       'meal_HB', 'meal_SC', 'meal_Undefined', 'market_segment_Aviation',\n",
              "       'market_segment_Complementary', 'market_segment_Corporate',\n",
              "       'market_segment_Direct', 'market_segment_Groups',\n",
              "       'market_segment_Offline TA/TO', 'market_segment_Online TA',\n",
              "       'distribution_channel_Corporate', 'distribution_channel_GDS',\n",
              "       'deposit_type_No Deposit', 'deposit_type_Refundable',\n",
              "       'customer_type_Contract', 'customer_type_Group',\n",
              "       'customer_type_Transient', 'reserved_vs_assigned', 'season_autumn',\n",
              "       'season_spring', 'season_summer', 'season_winter', 'origin_type'],\n",
              "      dtype='object')"
            ]
          },
          "metadata": {},
          "execution_count": 47
        }
      ]
    },
    {
      "cell_type": "code",
      "source": [
        "x = df[['hotel', 'arrival_date_week_number',\n",
        "       'arrival_date_day_of_month', 'stays_in_weekend_nights',\n",
        "       'stays_in_week_nights', 'adults', 'children', 'babies',\n",
        "       'is_repeated_guest', 'previous_cancellations',\n",
        "       'previous_bookings_not_canceled', 'booking_changes',\n",
        "       'days_in_waiting_list', 'required_car_parking_spaces', 'lead_time_norm',\n",
        "       'adr_norm', 'total_of_special_requests_norm', 'meal_BB', 'meal_FB',\n",
        "       'meal_HB', 'meal_SC', 'meal_Undefined', 'market_segment_Aviation',\n",
        "       'market_segment_Complementary', 'market_segment_Corporate',\n",
        "       'market_segment_Direct', 'market_segment_Groups',\n",
        "       'market_segment_Offline TA/TO', 'market_segment_Online TA',\n",
        "       'distribution_channel_Corporate', 'distribution_channel_GDS',\n",
        "       'deposit_type_No Deposit', 'deposit_type_Refundable',\n",
        "       'customer_type_Contract', 'customer_type_Group',\n",
        "       'customer_type_Transient', 'reserved_vs_assigned', 'season_autumn',\n",
        "       'season_spring', 'season_summer', 'season_winter', 'origin_type']]\n",
        "\n",
        "y = df[['is_canceled']]\n",
        "\n",
        "x_train, x_test, y_train, y_test = train_test_split(x, y, test_size=0.3, random_state=42)"
      ],
      "metadata": {
        "id": "YG7Q7kTTeNmH"
      },
      "execution_count": null,
      "outputs": []
    },
    {
      "cell_type": "code",
      "source": [
        "print(x_train.shape)\n",
        "print(x_test.shape)\n",
        "print(y_train.shape)\n",
        "print(y_test.shape)"
      ],
      "metadata": {
        "colab": {
          "base_uri": "https://localhost:8080/"
        },
        "id": "m5kADwA_Qezp",
        "outputId": "46e2eb61-24f3-4578-85be-6942db31afc9"
      },
      "execution_count": null,
      "outputs": [
        {
          "output_type": "stream",
          "name": "stdout",
          "text": [
            "(68160, 42)\n",
            "(29212, 42)\n",
            "(68160, 1)\n",
            "(29212, 1)\n"
          ]
        }
      ]
    },
    {
      "cell_type": "code",
      "source": [
        "from sklearn.metrics import accuracy_score, precision_score, recall_score, f1_score, roc_auc_score\n",
        "from sklearn.model_selection import cross_validate\n",
        "\n",
        "def eval_classification(model):\n",
        "    y_pred = model.predict(x_test)\n",
        "    y_pred_train = model.predict(x_train)\n",
        "    y_pred_proba = model.predict_proba(x_test)\n",
        "    y_pred_proba_train = model.predict_proba(x_train)\n",
        "    \n",
        "    print(\"Accuracy (Test Set): %.2f\" % accuracy_score(y_test, y_pred))\n",
        "    print(\"Precision (Test Set): %.2f\" % precision_score(y_test, y_pred))\n",
        "    print(\"Recall (Test Set): %.2f\" % recall_score(y_test, y_pred))\n",
        "    print(\"F1-Score (Test Set): %.2f\" % f1_score(y_test, y_pred))\n",
        "    \n",
        "    print(\"roc_auc (test-proba): %.2f\" % roc_auc_score(y_test, y_pred_proba[:, 1]))\n",
        "    print(\"roc_auc (train-proba): %.2f\" % roc_auc_score(y_train, y_pred_proba_train[:, 1]))\n",
        "\n",
        "    score = cross_validate(model, x, y, cv=5, scoring='roc_auc', return_train_score=True)\n",
        "    print('roc_auc (crossval train): '+ str(score['train_score'].mean()))\n",
        "    print('roc_auc (crossval test): '+ str(score['test_score'].mean()))\n",
        "\n",
        "def show_feature_importance(model):\n",
        "    feat_importances = pd.Series(model.feature_importances_, index=x.columns)\n",
        "    ax = feat_importances.nlargest(25).plot(kind='barh', figsize=(10, 8))\n",
        "    ax.invert_yaxis()\n",
        "\n",
        "    plt.xlabel('score')\n",
        "    plt.ylabel('feature')\n",
        "    plt.title('feature importance score')\n",
        "\n",
        "def show_best_hyperparameter(model):\n",
        "    print(model.best_estimator_.get_params())"
      ],
      "metadata": {
        "id": "jQQAdATlRwxo"
      },
      "execution_count": null,
      "outputs": []
    },
    {
      "cell_type": "code",
      "source": [
        "def draw_learning_curve(param_values):\n",
        "    train_scores = []\n",
        "    test_scores = []\n",
        "\n",
        "    for c in param_values:\n",
        "        model = LogisticRegression(penalty='l2', C=c)\n",
        "        model.fit(x_train, y_train)\n",
        "\n",
        "        # eval on train\n",
        "        y_pred_train_proba = model.predict_proba(x_train)\n",
        "        train_auc = roc_auc_score(y_train, y_pred_train_proba[:,1])\n",
        "        train_scores.append(train_auc)\n",
        "\n",
        "        # eval on test\n",
        "        y_pred_proba = model.predict_proba(x_test)\n",
        "        test_auc = roc_auc_score(y_test, y_pred_proba[:,1])\n",
        "        test_scores.append(test_auc)\n",
        "\n",
        "        print('param value: ' + str(c) + '; train: ' + str(train_auc) + '; test: '+ str(test_auc))\n",
        "\n",
        "    plt.plot(param_values, train_scores, label='Train')\n",
        "    plt.plot(param_values, test_scores, label='Test')\n",
        "    plt.xlabel('C')\n",
        "    plt.ylabel('AUC')\n",
        "    plt.title('Learning Curve - Hyperparameter C - Logistic Regression')\n",
        "    plt.legend()\n",
        "    plt.show()"
      ],
      "metadata": {
        "id": "WPt_5EiOQ5da"
      },
      "execution_count": null,
      "outputs": []
    },
    {
      "cell_type": "code",
      "source": [
        "df.is_canceled.value_counts(normalize=True)"
      ],
      "metadata": {
        "colab": {
          "base_uri": "https://localhost:8080/"
        },
        "id": "IA7Eo4o7SDr_",
        "outputId": "e6699e40-207c-445d-97c4-6e6a71869ef8"
      },
      "execution_count": null,
      "outputs": [
        {
          "output_type": "execute_result",
          "data": {
            "text/plain": [
              "0    0.604599\n",
              "1    0.395401\n",
              "Name: is_canceled, dtype: float64"
            ]
          },
          "metadata": {},
          "execution_count": 52
        }
      ]
    },
    {
      "cell_type": "markdown",
      "source": [
        "# B. Modeling "
      ],
      "metadata": {
        "id": "9xJQf38b1mTy"
      }
    },
    {
      "cell_type": "code",
      "source": [
        "logreg = LogisticRegression() # inisiasi object dengan nama logreg\n",
        "logreg.fit(x_train, y_train) # fit model regression dari data train\n",
        "eval_classification(logreg)"
      ],
      "metadata": {
        "colab": {
          "base_uri": "https://localhost:8080/"
        },
        "id": "Csj-iyjCSOAl",
        "outputId": "36a03598-e6b5-494b-aeec-eec46c82a2ae"
      },
      "execution_count": null,
      "outputs": [
        {
          "output_type": "stream",
          "name": "stdout",
          "text": [
            "Accuracy (Test Set): 0.80\n",
            "Precision (Test Set): 0.81\n",
            "Recall (Test Set): 0.65\n",
            "F1-Score (Test Set): 0.72\n",
            "roc_auc (test-proba): 0.88\n",
            "roc_auc (train-proba): 0.88\n",
            "roc_auc (crossval train): 0.8868623863826534\n",
            "roc_auc (crossval test): 0.8223497927942793\n"
          ]
        }
      ]
    },
    {
      "cell_type": "code",
      "source": [
        "knn = KNeighborsClassifier() # inisiasi object dengan nama knn\n",
        "knn.fit(x_train, y_train) # fit model KNN dari data train\n",
        "eval_classification(knn)"
      ],
      "metadata": {
        "colab": {
          "base_uri": "https://localhost:8080/"
        },
        "id": "aUM7zvoymNog",
        "outputId": "9a8f49f1-e76f-4151-f7ba-bc59c433fb41"
      },
      "execution_count": null,
      "outputs": [
        {
          "output_type": "stream",
          "name": "stdout",
          "text": [
            "Accuracy (Test Set): 0.78\n",
            "Precision (Test Set): 0.74\n",
            "Recall (Test Set): 0.69\n",
            "F1-Score (Test Set): 0.72\n",
            "roc_auc (test-proba): 0.85\n",
            "roc_auc (train-proba): 0.94\n",
            "roc_auc (crossval train): 0.9546183657346521\n",
            "roc_auc (crossval test): 0.41561540130217106\n"
          ]
        }
      ]
    },
    {
      "cell_type": "code",
      "source": [
        "dt = DecisionTreeClassifier() # inisiasi object dengan nama dt\n",
        "dt.fit(x_train, y_train) # fit model decision tree dari data train\n",
        "eval_classification(dt)"
      ],
      "metadata": {
        "colab": {
          "base_uri": "https://localhost:8080/"
        },
        "id": "ST20uamipp4T",
        "outputId": "1d900cf4-061f-42ac-8ec3-df057d0dbd96"
      },
      "execution_count": null,
      "outputs": [
        {
          "output_type": "stream",
          "name": "stdout",
          "text": [
            "Accuracy (Test Set): 0.83\n",
            "Precision (Test Set): 0.79\n",
            "Recall (Test Set): 0.79\n",
            "F1-Score (Test Set): 0.79\n",
            "roc_auc (test-proba): 0.83\n",
            "roc_auc (train-proba): 1.00\n",
            "roc_auc (crossval train): 0.9999435221801564\n",
            "roc_auc (crossval test): 0.5993184773431997\n"
          ]
        }
      ]
    },
    {
      "cell_type": "code",
      "source": [
        "nb = GaussianNB()\n",
        "nb.fit(x_train, y_train)\n",
        "eval_classification(nb)"
      ],
      "metadata": {
        "colab": {
          "base_uri": "https://localhost:8080/"
        },
        "id": "2ygmsOGLrpz7",
        "outputId": "296ffa4f-e90d-499c-d8a5-caeb5d16768f"
      },
      "execution_count": null,
      "outputs": [
        {
          "output_type": "stream",
          "name": "stdout",
          "text": [
            "Accuracy (Test Set): 0.76\n",
            "Precision (Test Set): 0.70\n",
            "Recall (Test Set): 0.67\n",
            "F1-Score (Test Set): 0.69\n",
            "roc_auc (test-proba): 0.82\n",
            "roc_auc (train-proba): 0.82\n",
            "roc_auc (crossval train): 0.8248939314723076\n",
            "roc_auc (crossval test): 0.7611142123508935\n"
          ]
        }
      ]
    },
    {
      "cell_type": "code",
      "source": [
        "xg = XGBClassifier()\n",
        "xg.fit(x_train, y_train)\n",
        "eval_classification(xg)"
      ],
      "metadata": {
        "colab": {
          "base_uri": "https://localhost:8080/"
        },
        "id": "-PccEqHJ5u2s",
        "outputId": "a034519f-e1a3-4a8b-ad94-60a46ebfafc5"
      },
      "execution_count": null,
      "outputs": [
        {
          "output_type": "stream",
          "name": "stdout",
          "text": [
            "Accuracy (Test Set): 0.86\n",
            "Precision (Test Set): 0.84\n",
            "Recall (Test Set): 0.78\n",
            "F1-Score (Test Set): 0.81\n",
            "roc_auc (test-proba): 0.93\n",
            "roc_auc (train-proba): 0.95\n",
            "roc_auc (crossval train): 0.9629270043369056\n",
            "roc_auc (crossval test): 0.7314855352002694\n"
          ]
        }
      ]
    },
    {
      "cell_type": "code",
      "source": [
        "rf = RandomForestClassifier()\n",
        "rf.fit(x_train, y_train)\n",
        "eval_classification(rf)"
      ],
      "metadata": {
        "colab": {
          "base_uri": "https://localhost:8080/"
        },
        "id": "3B_tOx1h7MX5",
        "outputId": "413d9ab7-1e25-4246-dba4-ca7c51e4df15"
      },
      "execution_count": null,
      "outputs": [
        {
          "output_type": "stream",
          "name": "stdout",
          "text": [
            "Accuracy (Test Set): 0.87\n",
            "Precision (Test Set): 0.87\n",
            "Recall (Test Set): 0.80\n",
            "F1-Score (Test Set): 0.83\n",
            "roc_auc (test-proba): 0.94\n",
            "roc_auc (train-proba): 1.00\n",
            "roc_auc (crossval train): 0.999579103206085\n",
            "roc_auc (crossval test): 0.696955434230999\n"
          ]
        }
      ]
    },
    {
      "cell_type": "code",
      "source": [
        "cb = CatBoostClassifier(verbose=False)\n",
        "cb.fit(x_train, y_train)\n",
        "eval_classification(cb)"
      ],
      "metadata": {
        "colab": {
          "base_uri": "https://localhost:8080/"
        },
        "id": "FdqtnLVA_MUx",
        "outputId": "51f1c305-13bd-4a03-c7dd-eefbc034320c"
      },
      "execution_count": null,
      "outputs": [
        {
          "output_type": "stream",
          "name": "stdout",
          "text": [
            "Accuracy (Test Set): 0.86\n",
            "Precision (Test Set): 0.85\n",
            "Recall (Test Set): 0.78\n",
            "F1-Score (Test Set): 0.81\n",
            "roc_auc (test-proba): 0.93\n",
            "roc_auc (train-proba): 0.95\n",
            "roc_auc (crossval train): 0.9631764202085247\n",
            "roc_auc (crossval test): 0.7367633942583907\n"
          ]
        }
      ]
    },
    {
      "cell_type": "code",
      "source": [
        "ab = AdaBoostClassifier()\n",
        "ab.fit(x_train, y_train)\n",
        "eval_classification(ab)"
      ],
      "metadata": {
        "colab": {
          "base_uri": "https://localhost:8080/"
        },
        "id": "44o-Mp2dAqIq",
        "outputId": "16560267-80e4-497a-81b9-d5e2b40c4074"
      },
      "execution_count": null,
      "outputs": [
        {
          "output_type": "stream",
          "name": "stdout",
          "text": [
            "Accuracy (Test Set): 0.81\n",
            "Precision (Test Set): 0.81\n",
            "Recall (Test Set): 0.68\n",
            "F1-Score (Test Set): 0.74\n",
            "roc_auc (test-proba): 0.89\n",
            "roc_auc (train-proba): 0.89\n",
            "roc_auc (crossval train): 0.8995258366727683\n",
            "roc_auc (crossval test): 0.8243619868363969\n"
          ]
        }
      ]
    },
    {
      "cell_type": "markdown",
      "source": [
        "# C. Model Evaluation: Pemilihan dan perhitungan metrics model"
      ],
      "metadata": {
        "id": "IxkXVs_a143R"
      }
    },
    {
      "cell_type": "markdown",
      "source": [
        "Metriks yang digunakan untuk project ini adalah recall. Pemilihan recall dengan tujuan untuk menekan angka false negatif (diprediksi tidak cancel ternyata iya). Dengan menekan angka false negatif sekecil mungkin, selain dapat menurunkan cancel rate, maka tim bisnis juga dapat lebih fokus kepada customer yang diprediksi  false positif (diprediksi cancel ternyata tidak) sehingga cost untuk mempertahankan customer agar tidak cancel menjadi berkurang."
      ],
      "metadata": {
        "id": "rjhRqplq1-GA"
      }
    },
    {
      "cell_type": "code",
      "source": [
        "feats = featurewiz(df, 'is_canceled', corr_limit=0.7, verbose=0)\n",
        "len(feats)"
      ],
      "metadata": {
        "colab": {
          "base_uri": "https://localhost:8080/"
        },
        "id": "OMzeMnzFFVgf",
        "outputId": "ef4b0b5f-801b-4b9f-8b5c-2804e3a82c6e"
      },
      "execution_count": null,
      "outputs": [
        {
          "output_type": "stream",
          "name": "stdout",
          "text": [
            "############################################################################################\n",
            "############       F A S T   F E A T U R E  E N G G    A N D    S E L E C T I O N ! ########\n",
            "# Be judicious with featurewiz. Don't use it to create too many un-interpretable features! #\n",
            "############################################################################################\n",
            "Correlation Limit = 0.7\n",
            "Skipping feature engineering since no feature_engg input...\n",
            "Skipping category encoding since no category encoders specified in input...\n",
            "#### Single_Label Binary_Classification problem ####\n",
            "    Loaded train data. Shape = (97372, 43)\n",
            "    Some column names had special characters which were removed...\n",
            "#### Single_Label Binary_Classification problem ####\n",
            "No test data filename given...\n",
            "Classifying features using a random sample of 10000 rows from dataset...\n",
            "#### Single_Label Binary_Classification problem ####\n",
            "    loading a random sample of 10000 rows into pandas for EDA\n",
            "#######################################################################################\n",
            "######################## C L A S S I F Y I N G  V A R I A B L E S  ####################\n",
            "#######################################################################################\n",
            "        3 variable(s) to be removed since ID or low-information variables\n",
            "    \tvariables removed = ['babies', 'is_repeated_guest', 'required_car_parking_spaces']\n",
            "train data shape before dropping 3 columns = (97372, 43)\n",
            "\ttrain data shape after dropping columns = (97372, 40)\n",
            "#######################################################################################\n",
            "#####  Searching for Uncorrelated List Of Variables (SULOV) in 39 features ############\n",
            "#######################################################################################\n",
            "    there are no null values in dataset...\n",
            "    Removing (1) highly correlated variables:\n",
            "    ['market_segment_Corporate']\n",
            "Completed SULOV. 38 features selected\n",
            "Time taken for SULOV method = 2 seconds\n",
            "Finally 38 vars selected after SULOV\n",
            "Converting all features to numeric before sending to XGBoost...\n",
            "#######################################################################################\n",
            "#####    R E C U R S I V E   X G B O O S T : F E A T U R E   S E L E C T I O N  #######\n",
            "#######################################################################################\n",
            "Current number of predictors before recursive XGBoost = 38 \n",
            "Number of booster rounds = 100\n",
            "Regular XGBoost is crashing due to: [10:49:00] ../src/gbm/gbtree.cc:597: Check failed: common::AllVisibleGPUs() >= 1 (0 vs. 1) : No visible GPU is found for XGBoost.\n",
            "Stack trace:\n",
            "  [bt] (0) /usr/local/lib/python3.7/dist-packages/xgboost/lib/libxgboost.so(+0x1e4459) [0x7fb643235459]\n",
            "  [bt] (1) /usr/local/lib/python3.7/dist-packages/xgboost/lib/libxgboost.so(+0x1e5571) [0x7fb643236571]\n",
            "  [bt] (2) /usr/local/lib/python3.7/dist-packages/xgboost/lib/libxgboost.so(+0x1e595a) [0x7fb64323695a]\n",
            "  [bt] (3) /usr/local/lib/python3.7/dist-packages/xgboost/lib/libxgboost.so(+0x225a3d) [0x7fb643276a3d]\n",
            "  [bt] (4) /usr/local/lib/python3.7/dist-packages/xgboost/lib/libxgboost.so(XGBoosterUpdateOneIter+0x68) [0x7fb643110098]\n",
            "  [bt] (5) /usr/lib/x86_64-linux-gnu/libffi.so.6(ffi_call_unix64+0x4c) [0x7fb67ddf7dae]\n",
            "  [bt] (6) /usr/lib/x86_64-linux-gnu/libffi.so.6(ffi_call+0x22f) [0x7fb67ddf771f]\n",
            "  [bt] (7) /usr/lib/python3.7/lib-dynload/_ctypes.cpython-37m-x86_64-linux-gnu.so(+0xd849) [0x7fb67e007849]\n",
            "  [bt] (8) /usr/lib/python3.7/lib-dynload/_ctypes.cpython-37m-x86_64-linux-gnu.so(+0xdeaf) [0x7fb67e007eaf]\n",
            "\n",
            "\n",
            "[10:49:00] ../src/gbm/gbtree.cc:597: Check failed: common::AllVisibleGPUs() >= 1 (0 vs. 1) : No visible GPU is found for XGBoost.\n",
            "Stack trace:\n",
            "  [bt] (0) /usr/local/lib/python3.7/dist-packages/xgboost/lib/libxgboost.so(+0x1e4459) [0x7fb643235459]\n",
            "  [bt] (1) /usr/local/lib/python3.7/dist-packages/xgboost/lib/libxgboost.so(+0x1e5571) [0x7fb643236571]\n",
            "  [bt] (2) /usr/local/lib/python3.7/dist-packages/xgboost/lib/libxgboost.so(+0x1e595a) [0x7fb64323695a]\n",
            "  [bt] (3) /usr/local/lib/python3.7/dist-packages/xgboost/lib/libxgboost.so(+0x225a3d) [0x7fb643276a3d]\n",
            "  [bt] (4) /usr/local/lib/python3.7/dist-packages/xgboost/lib/libxgboost.so(XGBoosterUpdateOneIter+0x68) [0x7fb643110098]\n",
            "  [bt] (5) /usr/lib/x86_64-linux-gnu/libffi.so.6(ffi_call_unix64+0x4c) [0x7fb67ddf7dae]\n",
            "  [bt] (6) /usr/lib/x86_64-linux-gnu/libffi.so.6(ffi_call+0x22f) [0x7fb67ddf771f]\n",
            "  [bt] (7) /usr/lib/python3.7/lib-dynload/_ctypes.cpython-37m-x86_64-linux-gnu.so(+0xd849) [0x7fb67e007849]\n",
            "  [bt] (8) /usr/lib/python3.7/lib-dynload/_ctypes.cpython-37m-x86_64-linux-gnu.so(+0xdeaf) [0x7fb67e007eaf]\n",
            "\n",
            "\n",
            "            selecting 13 features in this iteration\n",
            "Regular XGBoost is crashing due to: [10:49:02] ../src/gbm/gbtree.cc:597: Check failed: common::AllVisibleGPUs() >= 1 (0 vs. 1) : No visible GPU is found for XGBoost.\n",
            "Stack trace:\n",
            "  [bt] (0) /usr/local/lib/python3.7/dist-packages/xgboost/lib/libxgboost.so(+0x1e4459) [0x7fb643235459]\n",
            "  [bt] (1) /usr/local/lib/python3.7/dist-packages/xgboost/lib/libxgboost.so(+0x1e5571) [0x7fb643236571]\n",
            "  [bt] (2) /usr/local/lib/python3.7/dist-packages/xgboost/lib/libxgboost.so(+0x1e595a) [0x7fb64323695a]\n",
            "  [bt] (3) /usr/local/lib/python3.7/dist-packages/xgboost/lib/libxgboost.so(+0x225a3d) [0x7fb643276a3d]\n",
            "  [bt] (4) /usr/local/lib/python3.7/dist-packages/xgboost/lib/libxgboost.so(XGBoosterUpdateOneIter+0x68) [0x7fb643110098]\n",
            "  [bt] (5) /usr/lib/x86_64-linux-gnu/libffi.so.6(ffi_call_unix64+0x4c) [0x7fb67ddf7dae]\n",
            "  [bt] (6) /usr/lib/x86_64-linux-gnu/libffi.so.6(ffi_call+0x22f) [0x7fb67ddf771f]\n",
            "  [bt] (7) /usr/lib/python3.7/lib-dynload/_ctypes.cpython-37m-x86_64-linux-gnu.so(+0xd849) [0x7fb67e007849]\n",
            "  [bt] (8) /usr/lib/python3.7/lib-dynload/_ctypes.cpython-37m-x86_64-linux-gnu.so(+0xdeaf) [0x7fb67e007eaf]\n",
            "\n",
            "\n",
            "[10:49:02] ../src/gbm/gbtree.cc:597: Check failed: common::AllVisibleGPUs() >= 1 (0 vs. 1) : No visible GPU is found for XGBoost.\n",
            "Stack trace:\n",
            "  [bt] (0) /usr/local/lib/python3.7/dist-packages/xgboost/lib/libxgboost.so(+0x1e4459) [0x7fb643235459]\n",
            "  [bt] (1) /usr/local/lib/python3.7/dist-packages/xgboost/lib/libxgboost.so(+0x1e5571) [0x7fb643236571]\n",
            "  [bt] (2) /usr/local/lib/python3.7/dist-packages/xgboost/lib/libxgboost.so(+0x1e595a) [0x7fb64323695a]\n",
            "  [bt] (3) /usr/local/lib/python3.7/dist-packages/xgboost/lib/libxgboost.so(+0x225a3d) [0x7fb643276a3d]\n",
            "  [bt] (4) /usr/local/lib/python3.7/dist-packages/xgboost/lib/libxgboost.so(XGBoosterUpdateOneIter+0x68) [0x7fb643110098]\n",
            "  [bt] (5) /usr/lib/x86_64-linux-gnu/libffi.so.6(ffi_call_unix64+0x4c) [0x7fb67ddf7dae]\n",
            "  [bt] (6) /usr/lib/x86_64-linux-gnu/libffi.so.6(ffi_call+0x22f) [0x7fb67ddf771f]\n",
            "  [bt] (7) /usr/lib/python3.7/lib-dynload/_ctypes.cpython-37m-x86_64-linux-gnu.so(+0xd849) [0x7fb67e007849]\n",
            "  [bt] (8) /usr/lib/python3.7/lib-dynload/_ctypes.cpython-37m-x86_64-linux-gnu.so(+0xdeaf) [0x7fb67e007eaf]\n",
            "\n",
            "\n",
            "            selecting 8 features in this iteration\n",
            "Regular XGBoost is crashing due to: [10:49:04] ../src/gbm/gbtree.cc:597: Check failed: common::AllVisibleGPUs() >= 1 (0 vs. 1) : No visible GPU is found for XGBoost.\n",
            "Stack trace:\n",
            "  [bt] (0) /usr/local/lib/python3.7/dist-packages/xgboost/lib/libxgboost.so(+0x1e4459) [0x7fb643235459]\n",
            "  [bt] (1) /usr/local/lib/python3.7/dist-packages/xgboost/lib/libxgboost.so(+0x1e5571) [0x7fb643236571]\n",
            "  [bt] (2) /usr/local/lib/python3.7/dist-packages/xgboost/lib/libxgboost.so(+0x1e595a) [0x7fb64323695a]\n",
            "  [bt] (3) /usr/local/lib/python3.7/dist-packages/xgboost/lib/libxgboost.so(+0x225a3d) [0x7fb643276a3d]\n",
            "  [bt] (4) /usr/local/lib/python3.7/dist-packages/xgboost/lib/libxgboost.so(XGBoosterUpdateOneIter+0x68) [0x7fb643110098]\n",
            "  [bt] (5) /usr/lib/x86_64-linux-gnu/libffi.so.6(ffi_call_unix64+0x4c) [0x7fb67ddf7dae]\n",
            "  [bt] (6) /usr/lib/x86_64-linux-gnu/libffi.so.6(ffi_call+0x22f) [0x7fb67ddf771f]\n",
            "  [bt] (7) /usr/lib/python3.7/lib-dynload/_ctypes.cpython-37m-x86_64-linux-gnu.so(+0xd849) [0x7fb67e007849]\n",
            "  [bt] (8) /usr/lib/python3.7/lib-dynload/_ctypes.cpython-37m-x86_64-linux-gnu.so(+0xdeaf) [0x7fb67e007eaf]\n",
            "\n",
            "\n",
            "[10:49:04] ../src/gbm/gbtree.cc:597: Check failed: common::AllVisibleGPUs() >= 1 (0 vs. 1) : No visible GPU is found for XGBoost.\n",
            "Stack trace:\n",
            "  [bt] (0) /usr/local/lib/python3.7/dist-packages/xgboost/lib/libxgboost.so(+0x1e4459) [0x7fb643235459]\n",
            "  [bt] (1) /usr/local/lib/python3.7/dist-packages/xgboost/lib/libxgboost.so(+0x1e5571) [0x7fb643236571]\n",
            "  [bt] (2) /usr/local/lib/python3.7/dist-packages/xgboost/lib/libxgboost.so(+0x1e595a) [0x7fb64323695a]\n",
            "  [bt] (3) /usr/local/lib/python3.7/dist-packages/xgboost/lib/libxgboost.so(+0x225a3d) [0x7fb643276a3d]\n",
            "  [bt] (4) /usr/local/lib/python3.7/dist-packages/xgboost/lib/libxgboost.so(XGBoosterUpdateOneIter+0x68) [0x7fb643110098]\n",
            "  [bt] (5) /usr/lib/x86_64-linux-gnu/libffi.so.6(ffi_call_unix64+0x4c) [0x7fb67ddf7dae]\n",
            "  [bt] (6) /usr/lib/x86_64-linux-gnu/libffi.so.6(ffi_call+0x22f) [0x7fb67ddf771f]\n",
            "  [bt] (7) /usr/lib/python3.7/lib-dynload/_ctypes.cpython-37m-x86_64-linux-gnu.so(+0xd849) [0x7fb67e007849]\n",
            "  [bt] (8) /usr/lib/python3.7/lib-dynload/_ctypes.cpython-37m-x86_64-linux-gnu.so(+0xdeaf) [0x7fb67e007eaf]\n",
            "\n",
            "\n",
            "            selecting 5 features in this iteration\n",
            "Regular XGBoost is crashing due to: [10:49:06] ../src/gbm/gbtree.cc:597: Check failed: common::AllVisibleGPUs() >= 1 (0 vs. 1) : No visible GPU is found for XGBoost.\n",
            "Stack trace:\n",
            "  [bt] (0) /usr/local/lib/python3.7/dist-packages/xgboost/lib/libxgboost.so(+0x1e4459) [0x7fb643235459]\n",
            "  [bt] (1) /usr/local/lib/python3.7/dist-packages/xgboost/lib/libxgboost.so(+0x1e5571) [0x7fb643236571]\n",
            "  [bt] (2) /usr/local/lib/python3.7/dist-packages/xgboost/lib/libxgboost.so(+0x1e595a) [0x7fb64323695a]\n",
            "  [bt] (3) /usr/local/lib/python3.7/dist-packages/xgboost/lib/libxgboost.so(+0x225a3d) [0x7fb643276a3d]\n",
            "  [bt] (4) /usr/local/lib/python3.7/dist-packages/xgboost/lib/libxgboost.so(XGBoosterUpdateOneIter+0x68) [0x7fb643110098]\n",
            "  [bt] (5) /usr/lib/x86_64-linux-gnu/libffi.so.6(ffi_call_unix64+0x4c) [0x7fb67ddf7dae]\n",
            "  [bt] (6) /usr/lib/x86_64-linux-gnu/libffi.so.6(ffi_call+0x22f) [0x7fb67ddf771f]\n",
            "  [bt] (7) /usr/lib/python3.7/lib-dynload/_ctypes.cpython-37m-x86_64-linux-gnu.so(+0xd849) [0x7fb67e007849]\n",
            "  [bt] (8) /usr/lib/python3.7/lib-dynload/_ctypes.cpython-37m-x86_64-linux-gnu.so(+0xdeaf) [0x7fb67e007eaf]\n",
            "\n",
            "\n",
            "[10:49:06] ../src/gbm/gbtree.cc:597: Check failed: common::AllVisibleGPUs() >= 1 (0 vs. 1) : No visible GPU is found for XGBoost.\n",
            "Stack trace:\n",
            "  [bt] (0) /usr/local/lib/python3.7/dist-packages/xgboost/lib/libxgboost.so(+0x1e4459) [0x7fb643235459]\n",
            "  [bt] (1) /usr/local/lib/python3.7/dist-packages/xgboost/lib/libxgboost.so(+0x1e5571) [0x7fb643236571]\n",
            "  [bt] (2) /usr/local/lib/python3.7/dist-packages/xgboost/lib/libxgboost.so(+0x1e595a) [0x7fb64323695a]\n",
            "  [bt] (3) /usr/local/lib/python3.7/dist-packages/xgboost/lib/libxgboost.so(+0x225a3d) [0x7fb643276a3d]\n",
            "  [bt] (4) /usr/local/lib/python3.7/dist-packages/xgboost/lib/libxgboost.so(XGBoosterUpdateOneIter+0x68) [0x7fb643110098]\n",
            "  [bt] (5) /usr/lib/x86_64-linux-gnu/libffi.so.6(ffi_call_unix64+0x4c) [0x7fb67ddf7dae]\n",
            "  [bt] (6) /usr/lib/x86_64-linux-gnu/libffi.so.6(ffi_call+0x22f) [0x7fb67ddf771f]\n",
            "  [bt] (7) /usr/lib/python3.7/lib-dynload/_ctypes.cpython-37m-x86_64-linux-gnu.so(+0xd849) [0x7fb67e007849]\n",
            "  [bt] (8) /usr/lib/python3.7/lib-dynload/_ctypes.cpython-37m-x86_64-linux-gnu.so(+0xdeaf) [0x7fb67e007eaf]\n",
            "\n",
            "\n",
            "            selecting 3 features in this iteration\n",
            "Regular XGBoost is crashing due to: [10:49:07] ../src/gbm/gbtree.cc:597: Check failed: common::AllVisibleGPUs() >= 1 (0 vs. 1) : No visible GPU is found for XGBoost.\n",
            "Stack trace:\n",
            "  [bt] (0) /usr/local/lib/python3.7/dist-packages/xgboost/lib/libxgboost.so(+0x1e4459) [0x7fb643235459]\n",
            "  [bt] (1) /usr/local/lib/python3.7/dist-packages/xgboost/lib/libxgboost.so(+0x1e5571) [0x7fb643236571]\n",
            "  [bt] (2) /usr/local/lib/python3.7/dist-packages/xgboost/lib/libxgboost.so(+0x1e595a) [0x7fb64323695a]\n",
            "  [bt] (3) /usr/local/lib/python3.7/dist-packages/xgboost/lib/libxgboost.so(+0x225a3d) [0x7fb643276a3d]\n",
            "  [bt] (4) /usr/local/lib/python3.7/dist-packages/xgboost/lib/libxgboost.so(XGBoosterUpdateOneIter+0x68) [0x7fb643110098]\n",
            "  [bt] (5) /usr/lib/x86_64-linux-gnu/libffi.so.6(ffi_call_unix64+0x4c) [0x7fb67ddf7dae]\n",
            "  [bt] (6) /usr/lib/x86_64-linux-gnu/libffi.so.6(ffi_call+0x22f) [0x7fb67ddf771f]\n",
            "  [bt] (7) /usr/lib/python3.7/lib-dynload/_ctypes.cpython-37m-x86_64-linux-gnu.so(+0xd849) [0x7fb67e007849]\n",
            "  [bt] (8) /usr/lib/python3.7/lib-dynload/_ctypes.cpython-37m-x86_64-linux-gnu.so(+0xdeaf) [0x7fb67e007eaf]\n",
            "\n",
            "\n",
            "[10:49:07] ../src/gbm/gbtree.cc:597: Check failed: common::AllVisibleGPUs() >= 1 (0 vs. 1) : No visible GPU is found for XGBoost.\n",
            "Stack trace:\n",
            "  [bt] (0) /usr/local/lib/python3.7/dist-packages/xgboost/lib/libxgboost.so(+0x1e4459) [0x7fb643235459]\n",
            "  [bt] (1) /usr/local/lib/python3.7/dist-packages/xgboost/lib/libxgboost.so(+0x1e5571) [0x7fb643236571]\n",
            "  [bt] (2) /usr/local/lib/python3.7/dist-packages/xgboost/lib/libxgboost.so(+0x1e595a) [0x7fb64323695a]\n",
            "  [bt] (3) /usr/local/lib/python3.7/dist-packages/xgboost/lib/libxgboost.so(+0x225a3d) [0x7fb643276a3d]\n",
            "  [bt] (4) /usr/local/lib/python3.7/dist-packages/xgboost/lib/libxgboost.so(XGBoosterUpdateOneIter+0x68) [0x7fb643110098]\n",
            "  [bt] (5) /usr/lib/x86_64-linux-gnu/libffi.so.6(ffi_call_unix64+0x4c) [0x7fb67ddf7dae]\n",
            "  [bt] (6) /usr/lib/x86_64-linux-gnu/libffi.so.6(ffi_call+0x22f) [0x7fb67ddf771f]\n",
            "  [bt] (7) /usr/lib/python3.7/lib-dynload/_ctypes.cpython-37m-x86_64-linux-gnu.so(+0xd849) [0x7fb67e007849]\n",
            "  [bt] (8) /usr/lib/python3.7/lib-dynload/_ctypes.cpython-37m-x86_64-linux-gnu.so(+0xdeaf) [0x7fb67e007eaf]\n",
            "\n",
            "\n",
            "            selecting 1 features in this iteration\n",
            "    Completed XGBoost feature selection in 1 seconds\n",
            "#######################################################################################\n",
            "#####          F E A T U R E   S E L E C T I O N   C O M P L E T E D            #######\n",
            "#######################################################################################\n",
            "Selected 14 important features:\n",
            "['deposit_type_NoDeposit', 'previous_cancellations', 'deposit_type_Refundable', 'market_segment_OnlineTA', 'reserved_vs_assigned', 'total_of_special_requests_norm', 'origin_type', 'customer_type_Transient', 'meal_Undefined', 'season_winter', 'lead_time_norm', 'hotel', 'booking_changes', 'market_segment_Groups']\n",
            "Total Time taken for featurewiz selection = 10 seconds\n",
            "Output contains a list of 14 important features and a train dataframe\n"
          ]
        },
        {
          "output_type": "execute_result",
          "data": {
            "text/plain": [
              "2"
            ]
          },
          "metadata": {},
          "execution_count": 61
        }
      ]
    },
    {
      "cell_type": "code",
      "source": [
        "feats[0]"
      ],
      "metadata": {
        "colab": {
          "base_uri": "https://localhost:8080/"
        },
        "id": "djDIjJkBF1R3",
        "outputId": "25472dc0-31be-427b-d948-78d6ed62230c"
      },
      "execution_count": null,
      "outputs": [
        {
          "output_type": "execute_result",
          "data": {
            "text/plain": [
              "['deposit_type_No Deposit',\n",
              " 'previous_cancellations',\n",
              " 'deposit_type_Refundable',\n",
              " 'market_segment_Online TA',\n",
              " 'reserved_vs_assigned',\n",
              " 'total_of_special_requests_norm',\n",
              " 'origin_type',\n",
              " 'customer_type_Transient',\n",
              " 'meal_Undefined',\n",
              " 'season_winter',\n",
              " 'lead_time_norm',\n",
              " 'hotel',\n",
              " 'booking_changes',\n",
              " 'market_segment_Groups']"
            ]
          },
          "metadata": {},
          "execution_count": 62
        }
      ]
    },
    {
      "cell_type": "markdown",
      "source": [
        "# D. Model Evaluation: Apakah model sudah best-fit?"
      ],
      "metadata": {
        "id": "YhAlwzRv4OZ-"
      }
    },
    {
      "cell_type": "markdown",
      "source": [
        "memilih model yang memiliki recall paling tinggi dengan treshold roc_auc validation tidak lebih dari 10%"
      ],
      "metadata": {
        "id": "KqgunUpy54zC"
      }
    },
    {
      "cell_type": "code",
      "source": [
        "x_new = df[['deposit_type_No Deposit',\n",
        " 'previous_cancellations',\n",
        " 'market_segment_Online TA',\n",
        " 'reserved_vs_assigned',\n",
        " 'deposit_type_Refundable',\n",
        " 'total_of_special_requests_norm',\n",
        " 'origin_type',\n",
        " 'customer_type_Transient',\n",
        " 'booking_changes',\n",
        " 'lead_time_norm',\n",
        " 'season_winter',\n",
        " 'hotel',\n",
        " 'meal_Undefined',\n",
        " 'market_segment_Groups']]\n",
        "\n",
        "x_new_train, x_new_test, y_train, y_test = train_test_split(x_new, y, test_size=0.3, random_state=42)"
      ],
      "metadata": {
        "id": "RdZWJmCBF2Ld"
      },
      "execution_count": null,
      "outputs": []
    },
    {
      "cell_type": "code",
      "source": [
        "from sklearn.metrics import accuracy_score, precision_score, recall_score, f1_score, roc_auc_score\n",
        "from sklearn.model_selection import cross_validate\n",
        "\n",
        "def eval_classification_new(model):\n",
        "    y_pred = model.predict(x_new_test)\n",
        "    y_pred_train = model.predict(x_new_train)\n",
        "    y_pred_proba = model.predict_proba(x_new_test)\n",
        "    y_pred_proba_train = model.predict_proba(x_new_train)\n",
        "    \n",
        "    print(\"Accuracy (Test Set): %.2f\" % accuracy_score(y_test, y_pred))\n",
        "    print(\"Precision (Test Set): %.2f\" % precision_score(y_test, y_pred))\n",
        "    print(\"Recall (Test Set): %.2f\" % recall_score(y_test, y_pred))\n",
        "    print(\"F1-Score (Test Set): %.2f\" % f1_score(y_test, y_pred))\n",
        "    \n",
        "    print(\"roc_auc (test-proba): %.2f\" % roc_auc_score(y_test, y_pred_proba[:, 1]))\n",
        "    print(\"roc_auc (train-proba): %.2f\" % roc_auc_score(y_train, y_pred_proba_train[:, 1]))\n",
        "\n",
        "    score = cross_validate(model, x_new, y, cv=5, scoring='roc_auc', return_train_score=True)\n",
        "    print('roc_auc (crossval train): '+ str(score['train_score'].mean()))\n",
        "    print('roc_auc (crossval test): '+ str(score['test_score'].mean()))\n",
        "\n",
        "def show_feature_importance(model):\n",
        "    feat_importances = pd.Series(model.feature_importances_, index=x.columns)\n",
        "    ax = feat_importances.nlargest(25).plot(kind='barh', figsize=(10, 8))\n",
        "    ax.invert_yaxis()\n",
        "\n",
        "    plt.xlabel('score')\n",
        "    plt.ylabel('feature')\n",
        "    plt.title('feature importance score')\n",
        "\n",
        "def show_best_hyperparameter(model):\n",
        "    print(model.best_estimator_.get_params())"
      ],
      "metadata": {
        "id": "Yt6UFPMfG5Wh"
      },
      "execution_count": null,
      "outputs": []
    },
    {
      "cell_type": "code",
      "source": [
        "print(x_new_train.shape)\n",
        "print(x_new_test.shape)\n",
        "print(y_train.shape)\n",
        "print(y_test.shape)"
      ],
      "metadata": {
        "colab": {
          "base_uri": "https://localhost:8080/"
        },
        "id": "tKZ-wPpQGPq3",
        "outputId": "06ce78b1-0523-40db-d110-7cd1662a2cef"
      },
      "execution_count": null,
      "outputs": [
        {
          "output_type": "stream",
          "name": "stdout",
          "text": [
            "(68160, 14)\n",
            "(29212, 14)\n",
            "(68160, 1)\n",
            "(29212, 1)\n"
          ]
        }
      ]
    },
    {
      "cell_type": "code",
      "source": [
        "logreg = LogisticRegression() # inisiasi object dengan nama logreg\n",
        "logreg.fit(x_new_train, y_train) # fit model regression dari data train\n",
        "eval_classification_new(logreg)"
      ],
      "metadata": {
        "colab": {
          "base_uri": "https://localhost:8080/"
        },
        "id": "xLcIxXGVGqmJ",
        "outputId": "5668f08f-cb33-415e-dfec-ac8eeb7d35fb"
      },
      "execution_count": null,
      "outputs": [
        {
          "output_type": "stream",
          "name": "stdout",
          "text": [
            "Accuracy (Test Set): 0.79\n",
            "Precision (Test Set): 0.80\n",
            "Recall (Test Set): 0.64\n",
            "F1-Score (Test Set): 0.71\n",
            "roc_auc (test-proba): 0.88\n",
            "roc_auc (train-proba): 0.88\n",
            "roc_auc (crossval train): 0.8787877841823228\n",
            "roc_auc (crossval test): 0.8671327092537299\n"
          ]
        }
      ]
    },
    {
      "cell_type": "code",
      "source": [
        "knn = KNeighborsClassifier() # inisiasi object dengan nama knn\n",
        "knn.fit(x_new_train, y_train) # fit model KNN dari data train\n",
        "eval_classification_new(knn)"
      ],
      "metadata": {
        "colab": {
          "base_uri": "https://localhost:8080/"
        },
        "id": "G-6HB8rzHTFq",
        "outputId": "d88052d6-5f69-4083-be27-c1a55d3fb0c9"
      },
      "execution_count": null,
      "outputs": [
        {
          "output_type": "stream",
          "name": "stdout",
          "text": [
            "Accuracy (Test Set): 0.82\n",
            "Precision (Test Set): 0.79\n",
            "Recall (Test Set): 0.76\n",
            "F1-Score (Test Set): 0.77\n",
            "roc_auc (test-proba): 0.89\n",
            "roc_auc (train-proba): 0.93\n",
            "roc_auc (crossval train): 0.8953872293316583\n",
            "roc_auc (crossval test): 0.7821818341355065\n"
          ]
        }
      ]
    },
    {
      "cell_type": "code",
      "source": [
        "dt = DecisionTreeClassifier() # inisiasi object dengan nama dt\n",
        "dt.fit(x_new_train, y_train) # fit model decision tree dari data train\n",
        "eval_classification_new(dt)"
      ],
      "metadata": {
        "colab": {
          "base_uri": "https://localhost:8080/"
        },
        "id": "X3lwUFekHVN6",
        "outputId": "0ad88321-1bb3-4679-c96b-ae75429e4e24"
      },
      "execution_count": null,
      "outputs": [
        {
          "output_type": "stream",
          "name": "stdout",
          "text": [
            "Accuracy (Test Set): 0.83\n",
            "Precision (Test Set): 0.81\n",
            "Recall (Test Set): 0.74\n",
            "F1-Score (Test Set): 0.78\n",
            "roc_auc (test-proba): 0.88\n",
            "roc_auc (train-proba): 0.97\n",
            "roc_auc (crossval train): 0.9652237956452675\n",
            "roc_auc (crossval test): 0.7616318220033471\n"
          ]
        }
      ]
    },
    {
      "cell_type": "code",
      "source": [
        "nb = GaussianNB()\n",
        "nb.fit(x_new_train, y_train)\n",
        "eval_classification_new(nb)"
      ],
      "metadata": {
        "colab": {
          "base_uri": "https://localhost:8080/"
        },
        "id": "bWWovghJI6RA",
        "outputId": "47ad1a39-38b3-49fc-c472-37b425d1cd0b"
      },
      "execution_count": null,
      "outputs": [
        {
          "output_type": "stream",
          "name": "stdout",
          "text": [
            "Accuracy (Test Set): 0.75\n",
            "Precision (Test Set): 0.96\n",
            "Recall (Test Set): 0.40\n",
            "F1-Score (Test Set): 0.56\n",
            "roc_auc (test-proba): 0.82\n",
            "roc_auc (train-proba): 0.82\n",
            "roc_auc (crossval train): 0.8244462579597128\n",
            "roc_auc (crossval test): 0.8158865248273559\n"
          ]
        }
      ]
    },
    {
      "cell_type": "code",
      "source": [
        "xg = XGBClassifier()\n",
        "xg.fit(x_new_train, y_train)\n",
        "eval_classification_new(xg)"
      ],
      "metadata": {
        "colab": {
          "base_uri": "https://localhost:8080/"
        },
        "id": "y6AvfTzjJJi5",
        "outputId": "dd762f67-c988-40bb-996f-542ece1ff267"
      },
      "execution_count": null,
      "outputs": [
        {
          "output_type": "stream",
          "name": "stdout",
          "text": [
            "Accuracy (Test Set): 0.84\n",
            "Precision (Test Set): 0.83\n",
            "Recall (Test Set): 0.75\n",
            "F1-Score (Test Set): 0.79\n",
            "roc_auc (test-proba): 0.92\n",
            "roc_auc (train-proba): 0.93\n",
            "roc_auc (crossval train): 0.9281577174747924\n",
            "roc_auc (crossval test): 0.8661353135133683\n"
          ]
        }
      ]
    },
    {
      "cell_type": "code",
      "source": [
        "rf = RandomForestClassifier()\n",
        "rf.fit(x_new_train, y_train)\n",
        "eval_classification_new(rf)"
      ],
      "metadata": {
        "colab": {
          "base_uri": "https://localhost:8080/"
        },
        "id": "ln5nYsp4JtR6",
        "outputId": "bfdc3fd2-246e-45b2-9699-6c3d194ab8c9"
      },
      "execution_count": null,
      "outputs": [
        {
          "output_type": "stream",
          "name": "stdout",
          "text": [
            "Accuracy (Test Set): 0.83\n",
            "Precision (Test Set): 0.80\n",
            "Recall (Test Set): 0.76\n",
            "F1-Score (Test Set): 0.78\n",
            "roc_auc (test-proba): 0.90\n",
            "roc_auc (train-proba): 0.96\n",
            "roc_auc (crossval train): 0.9626430281075751\n",
            "roc_auc (crossval test): 0.8218511291234034\n"
          ]
        }
      ]
    },
    {
      "cell_type": "code",
      "source": [
        "cb = CatBoostClassifier(verbose=False)\n",
        "cb.fit(x_new_train, y_train)\n",
        "eval_classification_new(cb)"
      ],
      "metadata": {
        "colab": {
          "base_uri": "https://localhost:8080/"
        },
        "id": "b9C8FEFvKUSz",
        "outputId": "dc439674-d017-4e8e-df86-368e004325c7"
      },
      "execution_count": null,
      "outputs": [
        {
          "output_type": "stream",
          "name": "stdout",
          "text": [
            "Accuracy (Test Set): 0.84\n",
            "Precision (Test Set): 0.83\n",
            "Recall (Test Set): 0.75\n",
            "F1-Score (Test Set): 0.79\n",
            "roc_auc (test-proba): 0.92\n",
            "roc_auc (train-proba): 0.92\n",
            "roc_auc (crossval train): 0.9291329712493284\n",
            "roc_auc (crossval test): 0.867715757281512\n"
          ]
        }
      ]
    },
    {
      "cell_type": "code",
      "source": [
        "ab = AdaBoostClassifier()\n",
        "ab.fit(x_new_train, y_train)\n",
        "eval_classification_new(ab)"
      ],
      "metadata": {
        "colab": {
          "base_uri": "https://localhost:8080/"
        },
        "id": "GJZg6o2RLc9m",
        "outputId": "7b5c02ef-06fb-4007-f9e9-fd066169b1f3"
      },
      "execution_count": null,
      "outputs": [
        {
          "output_type": "stream",
          "name": "stdout",
          "text": [
            "Accuracy (Test Set): 0.81\n",
            "Precision (Test Set): 0.80\n",
            "Recall (Test Set): 0.69\n",
            "F1-Score (Test Set): 0.74\n",
            "roc_auc (test-proba): 0.89\n",
            "roc_auc (train-proba): 0.89\n",
            "roc_auc (crossval train): 0.8899060373132919\n",
            "roc_auc (crossval test): 0.8770397490400532\n"
          ]
        }
      ]
    },
    {
      "cell_type": "markdown",
      "source": [
        "Setelah dilakukan modeling ulang, sebagian besar model mengalami pengurangan gap roc auc validation yang berarti bahwa model semakin dekat dengan best fit (tidak underfit ataupun overfit)"
      ],
      "metadata": {
        "id": "TudlvZDD-wmZ"
      }
    },
    {
      "cell_type": "markdown",
      "source": [
        "# E. Hyperparameter Tuning"
      ],
      "metadata": {
        "id": "QBTPOyJl4V7k"
      }
    },
    {
      "cell_type": "markdown",
      "source": [
        "Memilih XGBoost sebagai model yang terbaik"
      ],
      "metadata": {
        "id": "oQC1Imaq6Ay5"
      }
    },
    {
      "cell_type": "code",
      "source": [
        "hyperparameters = {\n",
        "                   'max_depth' : [int(x) for x in np.linspace(10, 110, num = 11)],\n",
        "                 'min_child_weight' : [int(x) for x in np.linspace(1, 20, num = 11)],\n",
        "                  'gamma' : [float(x) for x in np.linspace(0, 1, num = 11)],\n",
        "                   'tree_method' : ['auto', 'exact', 'approx', 'hist'],\n",
        "                    'colsample_bytree' : [float(x) for x in np.linspace(0, 1, num = 11)],\n",
        "                    'eta' : [float(x) for x in np.linspace(0, 1, num = 100)],\n",
        "                     'lambda' : [float(x) for x in np.linspace(0, 1, num = 11)],                  \n",
        "                   'alpha' : [float(x) for x in np.linspace(0, 1, num = 11)]                    \n",
        "                   }\n",
        "\n",
        "xg = XGBClassifier(random_state=42)\n",
        "xg_tuned = RandomizedSearchCV(xg, hyperparameters, cv=5, random_state=42, n_jobs=1)\n",
        "xg_tuned.fit(x_new_train,y_train)\n",
        "\n",
        "y_pred = xg_tuned.predict(x_new_train)\n",
        "eval_classification_new(xg_tuned)"
      ],
      "metadata": {
        "colab": {
          "base_uri": "https://localhost:8080/"
        },
        "id": "hCkovIzYScUH",
        "outputId": "90d8ad39-1534-49f4-d2a7-a7a7a5e35de6"
      },
      "execution_count": null,
      "outputs": [
        {
          "output_type": "stream",
          "name": "stdout",
          "text": [
            "Accuracy (Test Set): 0.84\n",
            "Precision (Test Set): 0.83\n",
            "Recall (Test Set): 0.75\n",
            "F1-Score (Test Set): 0.79\n",
            "roc_auc (test-proba): 0.92\n",
            "roc_auc (train-proba): 0.93\n",
            "roc_auc (crossval train): 0.9048440163099318\n",
            "roc_auc (crossval test): 0.8683850598658698\n"
          ]
        }
      ]
    },
    {
      "cell_type": "code",
      "source": [
        "### hyperparameter yang digunakan \n",
        "print(xg_tuned.best_params_)"
      ],
      "metadata": {
        "colab": {
          "base_uri": "https://localhost:8080/"
        },
        "id": "6-k4V38du4LF",
        "outputId": "bc348919-b434-42f9-9568-3da67fc9f142"
      },
      "execution_count": null,
      "outputs": [
        {
          "output_type": "stream",
          "name": "stdout",
          "text": [
            "{'tree_method': 'approx', 'min_child_weight': 4, 'max_depth': 50, 'lambda': 0.6000000000000001, 'gamma': 1.0, 'eta': 0.31313131313131315, 'colsample_bytree': 0.7000000000000001, 'alpha': 0.6000000000000001}\n"
          ]
        }
      ]
    },
    {
      "cell_type": "code",
      "source": [
        "xg_new = XGBClassifier(tree_method = 'auto', min_child_weight =  4, max_depth = 50, reg_lambda = 0.6000000000000001, gamma = 1.0, eta = 0.31313131313131315, colsample_bytree = 0.7000000000000001, alpha = 0.6000000000000001)\n",
        "xg_new.fit(x_new_train, y_train)\n",
        "eval_classification_new(xg_new)"
      ],
      "metadata": {
        "colab": {
          "base_uri": "https://localhost:8080/"
        },
        "id": "kS1hWFcivN2D",
        "outputId": "54e4f0f0-dbd1-4782-8ecd-df07b84973c0"
      },
      "execution_count": null,
      "outputs": [
        {
          "output_type": "stream",
          "name": "stdout",
          "text": [
            "Accuracy (Test Set): 0.84\n",
            "Precision (Test Set): 0.82\n",
            "Recall (Test Set): 0.76\n",
            "F1-Score (Test Set): 0.79\n",
            "roc_auc (test-proba): 0.92\n",
            "roc_auc (train-proba): 0.94\n",
            "roc_auc (crossval train): 0.9453924902804189\n",
            "roc_auc (crossval test): 0.8556828075920082\n"
          ]
        }
      ]
    },
    {
      "cell_type": "markdown",
      "source": [
        "Setelah melakukan hyperparameter tuning, roc_auc validation mengalami kenaikan menjadi 9% yang sebelumnya 6% (0.06 menjadi 0.09) tetapi recall mengalami kenaikan score sebesar 1% (75% -> 76%) "
      ],
      "metadata": {
        "id": "okEsoIRq6L4Y"
      }
    },
    {
      "cell_type": "code",
      "source": [
        "y_predicted = xg_new.predict(x_new_test)\n",
        "y_predicted"
      ],
      "metadata": {
        "colab": {
          "base_uri": "https://localhost:8080/"
        },
        "id": "ou2d1nBh7ScM",
        "outputId": "7ec4f599-7ec2-4c2a-aea2-b763caa5cf87"
      },
      "execution_count": null,
      "outputs": [
        {
          "output_type": "execute_result",
          "data": {
            "text/plain": [
              "array([1, 0, 1, ..., 1, 0, 0])"
            ]
          },
          "metadata": {},
          "execution_count": 77
        }
      ]
    },
    {
      "cell_type": "code",
      "source": [
        "print(len(y_test))"
      ],
      "metadata": {
        "colab": {
          "base_uri": "https://localhost:8080/"
        },
        "id": "d_WkmK357bS9",
        "outputId": "bc1d8c17-9bc0-4742-9401-e417082bddc3"
      },
      "execution_count": null,
      "outputs": [
        {
          "output_type": "stream",
          "name": "stdout",
          "text": [
            "29212\n"
          ]
        }
      ]
    },
    {
      "cell_type": "code",
      "source": [
        "confusion_matrix(y_test,y_predicted)"
      ],
      "metadata": {
        "colab": {
          "base_uri": "https://localhost:8080/"
        },
        "id": "K06ngyBJ7fb-",
        "outputId": "d60e0e0d-d754-43cb-edb0-7fd125b1cd8d"
      },
      "execution_count": null,
      "outputs": [
        {
          "output_type": "execute_result",
          "data": {
            "text/plain": [
              "array([[15676,  1914],\n",
              "       [ 2822,  8800]])"
            ]
          },
          "metadata": {},
          "execution_count": 79
        }
      ]
    },
    {
      "cell_type": "code",
      "source": [
        "cf_matrix = confusion_matrix(y_test, y_predicted)\n",
        "ax = sns.heatmap(cf_matrix, annot=True, fmt='.1f')\n",
        "\n",
        "plt.title('XGBClassifier\\nConfusion Matrix', pad=15)\n",
        "plt.xlabel('Predicted Values')\n",
        "plt.ylabel('Actual Values ');\n",
        "\n",
        "ax.xaxis.set_ticklabels(['True','False'])\n",
        "ax.yaxis.set_ticklabels(['True','False'])\n",
        "\n",
        "plt.show()"
      ],
      "metadata": {
        "colab": {
          "base_uri": "https://localhost:8080/",
          "height": 319
        },
        "id": "UYekRwK38Eoa",
        "outputId": "99c8e8ec-fc4f-47c3-a1e8-af4c15dcca79"
      },
      "execution_count": null,
      "outputs": [
        {
          "output_type": "display_data",
          "data": {
            "text/plain": [
              "<Figure size 432x288 with 2 Axes>"
            ],
            "image/png": "[encoded data removed]"
          },
          "metadata": {
            "needs_background": "light"
          }
        }
      ]
    },
    {
      "cell_type": "markdown",
      "source": [
        "# Feature Importances"
      ],
      "metadata": {
        "id": "N1pCcWaI8y_X"
      }
    },
    {
      "cell_type": "code",
      "source": [
        "feat_importances = pd.Series(xg_new.feature_importances_, index=x_new_train.columns)\n",
        "ax = feat_importances.nlargest(25).plot(kind='barh', figsize=(10, 8))\n",
        "ax.invert_yaxis()\n",
        "\n",
        "plt.xlabel('score')\n",
        "plt.ylabel('feature')\n",
        "plt.title('feature importance score')\n",
        "plt.show()"
      ],
      "metadata": {
        "colab": {
          "base_uri": "https://localhost:8080/",
          "height": 513
        },
        "id": "qZwoyNvg80zi",
        "outputId": "a486a613-c576-432c-83a9-3508ef4dc6f5"
      },
      "execution_count": null,
      "outputs": [
        {
          "output_type": "display_data",
          "data": {
            "text/plain": [
              "<Figure size 720x576 with 1 Axes>"
            ],
            "image/png": "[encoded data removed]"
          },
          "metadata": {
            "needs_background": "light"
          }
        }
      ]
    },
    {
      "cell_type": "code",
      "source": [
        "feat_importances.nlargest(25)"
      ],
      "metadata": {
        "colab": {
          "base_uri": "https://localhost:8080/"
        },
        "id": "MA8aj3zt9fMX",
        "outputId": "ae248115-7d57-4220-a49e-1b3839597f3c"
      },
      "execution_count": null,
      "outputs": [
        {
          "output_type": "execute_result",
          "data": {
            "text/plain": [
              "deposit_type_No Deposit           0.469143\n",
              "origin_type                       0.194785\n",
              "previous_cancellations            0.095382\n",
              "market_segment_Online TA          0.063013\n",
              "reserved_vs_assigned              0.062217\n",
              "deposit_type_Refundable           0.032435\n",
              "customer_type_Transient           0.021636\n",
              "total_of_special_requests_norm    0.020965\n",
              "booking_changes                   0.011366\n",
              "market_segment_Groups             0.009748\n",
              "hotel                             0.005745\n",
              "lead_time_norm                    0.005385\n",
              "meal_Undefined                    0.004356\n",
              "season_winter                     0.003824\n",
              "dtype: float32"
            ]
          },
          "metadata": {},
          "execution_count": 82
        }
      ]
    },
    {
      "cell_type": "markdown",
      "source": [
        "- deposite_type_No Deposit: kolerasi antara target (is_canceled) dengan fitur ‘Deposite_type_No Deposit’ adalah korelasi negative. Pihak hotel dapat menghapus Deposite_type_No Deposit. Atau no deposit hanya untuk customer dengan lead time yang kecil dengan asumsi waktu kedatangan yang dekat mengakibatkan kecil kemungkinan akan terjadi cancel\n",
        "- origin_type : dilihat dari value fitur ‘origin_type’ customer internasional adalah customer yang dominan sebesar 60%. Pihak hotel perlu melakukan marketing yang dapat meningkatkan customer local. Salah satu promo yang bisa dilakukan adalah adanya promo hari libur nasional, misalnya promo hari kemerdekaan, promo libur sekolah\n",
        "- previous_cancellations: fitur previous_cancellation berkorelasi positif dengan target (is_canceled) dan value 0 adalah value terbanyak sebesar 95%. Dapat diketahui bahwa customer yang belum pernah cancel memiliki kemungkinan akan melakukan cancel di pemesanan yang akan datang karena mereka belum merasakan efek / kerugian dr cancel yang dilakukan. Penghapusan pilihan deposit dengan tipe no deposit dapat menjadi salah satu efek jera yang dapat diberikan pihak hotel\n",
        "\n"
      ],
      "metadata": {
        "id": "QLaKjvJ6rIB0"
      }
    }
  ]
}